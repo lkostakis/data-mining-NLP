{
 "cells": [
  {
   "cell_type": "code",
<<<<<<< HEAD
   "execution_count": 1,
=======
   "execution_count": 159,
>>>>>>> bb52f1e... Fixed mistake
   "metadata": {},
   "outputs": [
    {
     "output_type": "stream",
     "name": "stdout",
     "text": [
      "../yelp-dataset/yelp_academic_dataset_business.json\n"
     ]
    }
   ],
   "source": [
    "import pandas as pd\n",
    "import numpy as np\n",
    "import json\n",
    "# Place Yelp dataset in ../yelp-dataset\n",
    "yelp_dataset_path = '../yelp-dataset/'\n",
    "print(yelp_dataset_path + 'yelp_academic_dataset_business.json')\n",
    "\n",
    "data = [json.loads(line) for line in \n",
    "        open(yelp_dataset_path+'yelp_academic_dataset_business.json', 'r', encoding=\"utf8\")]"
   ]
  },
  {
   "cell_type": "code",
<<<<<<< HEAD
   "execution_count": 2,
=======
   "execution_count": 160,
>>>>>>> bb52f1e... Fixed mistake
   "metadata": {
    "scrolled": true
   },
   "outputs": [],
   "source": [
    "data = [x for x in data if x['city']=='Toronto']\n",
    "data = np.array(data) # Convert list to numpy array"
   ]
  },
  {
   "cell_type": "code",
<<<<<<< HEAD
   "execution_count": 3,
   "metadata": {},
   "outputs": [],
   "source": [
    "# Create an array with business with more than 15 reviews\n",
    "business_col = np.array([])\n",
    "for i in range(len(data)):\n",
    "    if data[i]['review_count']>=15:\n",
    "        business_col = np.append(business_col,data[i]['business_id'])\n"
   ]
  },
  {
   "cell_type": "code",
   "execution_count": 4,
   "metadata": {
    "scrolled": false
   },
   "outputs": [],
   "source": [
    "test = np.array([])\n",
    "tor_total_business= []\n",
    "\n",
    "with open('/home/left/Desktop/dataMining/set2/ask2/yelp_academic_dataset_review.json') as reviews_file:\n",
    "   #business_id = [next(reviews_file) for x in range(1000)]\n",
    "   #for y in range(100):\n",
    "        #review_line = next(reviews_file)\n",
    "        #business_id = json.loads(review_line)\n",
    "    for line in reviews_file:\n",
    "        tor_business_reviews = []\n",
    "        line = json.loads(line)\n",
    "        mask = np.isin(business_col,line['business_id'])\n",
    "        mask = business_col[mask]\n",
    "        if mask.size>0:\n",
    "            tor_total_business.append(line)\n",
    "\n",
    "        #tor_business_reviews.append(np.intersect1d(business_col, line['business_id']))\n",
    "        #if tor_business_reviews[0].size>0:\n",
    "        #    tor_total_business.append(line)\n",
    "        \n",
    "        "
   ]
  },
  {
   "cell_type": "code",
   "execution_count": 5,
=======
   "execution_count": 161,
>>>>>>> bb52f1e... Fixed mistake
   "metadata": {},
   "outputs": [
    {
     "output_type": "execute_result",
     "data": {
      "text/plain": [
       "519692"
      ]
     },
<<<<<<< HEAD
     "execution_count": 5,
=======
>>>>>>> bb52f1e... Fixed mistake
     "metadata": {},
     "execution_count": 161
    }
   ],
   "source": [
    "len(tor_total_business)"
   ]
  },
  {
   "cell_type": "code",
   "execution_count": 162,
   "metadata": {},
   "outputs": [],
   "source": [
    "ok = np.array(tor_total_business)"
   ]
  },
  {
   "cell_type": "code",
   "execution_count": 7,
   "metadata": {},
   "outputs": [],
   "source": [
    "test = []\n",
    "for i in range(len(tor_total_business)):\n",
    "    test.append(tor_total_business[i]['user_id'])\n",
    "test = np.array(test)"
   ]
  },
  {
   "cell_type": "code",
   "execution_count": 8,
   "metadata": {},
   "outputs": [],
   "source": [
    "unique, counts = np.unique(test, return_counts=True)\n",
    "ok =dict(zip(unique, counts))\n",
    "final_l = []\n",
    "recs=0\n",
    "for i in range(len(counts)):\n",
    "    if counts[i]>=15:\n",
    "        final_l.append(unique[i])\n",
    "        recs += counts[i]"
   ]
  },
  {
   "cell_type": "code",
   "execution_count": 9,
   "metadata": {},
   "outputs": [],
   "source": [
    "final_l = np.array(final_l)"
   ]
  },
  {
   "cell_type": "code",
   "execution_count": 10,
   "metadata": {},
   "outputs": [
    {
<<<<<<< HEAD
     "data": {
      "text/plain": [
       "5874"
      ]
     },
     "execution_count": 10,
     "metadata": {},
     "output_type": "execute_result"
    }
   ],
   "source": [
    "final_l.size"
=======
     "output_type": "stream",
     "name": "stdout",
     "text": [
      "['{\"review_id\":\"xQY8N_XvtGbearJ5X4QryQ\",\"user_id\":\"OwjRMXRC0KyPrIlcjaXeFQ\",\"business_id\":\"-MhfebM0QIsKt87iDN-FNw\",\"stars\":2.0,\"useful\":5,\"funny\":0,\"cool\":0,\"text\":\"As someone who has worked with many museums, I was eager to visit this gallery on my most recent trip to Las Vegas. When I saw they would be showing infamous eggs of the House of Faberge from the Virginia Museum of Fine Arts (VMFA), I knew I had to go!\\\\n\\\\nTucked away near the gelateria and the garden, the Gallery is pretty much hidden from view. It\\'s what real estate agents would call \\\\\"cozy\\\\\" or \\\\\"charming\\\\\" - basically any euphemism for small.\\\\n\\\\nThat being said, you can still see wonderful art at a gallery of any size, so why the two *s you ask? Let me tell you:\\\\n\\\\n* pricing for this, while relatively inexpensive for a Las Vegas attraction, is completely over the top. For the space and the amount of art you can fit in there, it is a bit much.\\\\n* it\\'s not kid friendly at all. Seriously, don\\'t bring them.\\\\n* the security is not trained properly for the show. When the curating and design teams collaborate for exhibitions, there is a definite flow. That means visitors should view the art in a certain sequence, whether it be by historical period or cultural significance (this is how audio guides are usually developed). When I arrived in the gallery I could not tell where to start, and security was certainly not helpful. I was told to \\\\\"just look around\\\\\" and \\\\\"do whatever.\\\\\" \\\\n\\\\nAt such a *fine* institution, I find the lack of knowledge and respect for the art appalling.\",\"date\":\"2015-04-15 05:21:16\"}\\n']\n"
     ]
    }
   ],
   "source": [
    "with open(yelp_dataset_path + 'yelp_academic_dataset_review.json') as myfile:\n",
    "    head = [next(myfile) for x in range(1)]\n",
    "print(head)"
>>>>>>> bb52f1e... Fixed mistake
   ]
  },
  {
   "cell_type": "markdown",
   "metadata": {},
   "source": [
    "# Βημα 2"
   ]
  },
  {
   "cell_type": "code",
   "execution_count": 163,
   "metadata": {},
   "outputs": [
    {
     "name": "stdout",
     "output_type": "stream",
     "text": [
<<<<<<< HEAD
      "        TZQSUDDcA4ek5gBd6BzcjA  qUWqjjjfpB2-4P3He5rsKw  4.0\n",
      "0       TZQSUDDcA4ek5gBd6BzcjA  6n_MDeYxU1ihB38be9TkVA  4.0\n",
      "1       TZQSUDDcA4ek5gBd6BzcjA  jo4KmAqlZ7vxjHIP7IIkAw  5.0\n",
      "2       TZQSUDDcA4ek5gBd6BzcjA  dsAcgF6qtZy2m6d_yWCrGQ  4.0\n",
      "3       TZQSUDDcA4ek5gBd6BzcjA  siaRCT2-PkyeXUVKrywcTg  4.0\n",
      "4       TZQSUDDcA4ek5gBd6BzcjA  SGP1jf6k7spXkgwBlhiUVw  5.0\n",
      "...                        ...                     ...  ...\n",
      "197106  3L3CI2Om_2SE3T6hxrJKPQ  j_hB9Gt3VMJAbA2JyvyFjw  4.0\n",
      "197107  3L3CI2Om_2SE3T6hxrJKPQ  WKcVegcUjAld1S737a_QHw  4.0\n",
      "197108  3L3CI2Om_2SE3T6hxrJKPQ  1FL3oE2mqq_EFAYPd1TWUg  5.0\n",
      "197109  3L3CI2Om_2SE3T6hxrJKPQ  hlrZHM4D48XiQtXh6cRg_w  1.0\n",
      "197110  3L3CI2Om_2SE3T6hxrJKPQ  _cVCzKQGt23KKW1M07Yvkw  5.0\n",
      "\n",
      "[197111 rows x 3 columns]\n"
=======
      "                       User_ID             Buisness_ID  Rating\n0       TZQSUDDcA4ek5gBd6BzcjA  qUWqjjjfpB2-4P3He5rsKw       4\n1       TZQSUDDcA4ek5gBd6BzcjA  6n_MDeYxU1ihB38be9TkVA       4\n2       TZQSUDDcA4ek5gBd6BzcjA  jo4KmAqlZ7vxjHIP7IIkAw       5\n3       TZQSUDDcA4ek5gBd6BzcjA  dsAcgF6qtZy2m6d_yWCrGQ       4\n4       TZQSUDDcA4ek5gBd6BzcjA  siaRCT2-PkyeXUVKrywcTg       4\n...                        ...                     ...     ...\n197107  3L3CI2Om_2SE3T6hxrJKPQ  j_hB9Gt3VMJAbA2JyvyFjw       4\n197108  3L3CI2Om_2SE3T6hxrJKPQ  WKcVegcUjAld1S737a_QHw       4\n197109  3L3CI2Om_2SE3T6hxrJKPQ  1FL3oE2mqq_EFAYPd1TWUg       5\n197110  3L3CI2Om_2SE3T6hxrJKPQ  hlrZHM4D48XiQtXh6cRg_w       1\n197111  3L3CI2Om_2SE3T6hxrJKPQ  _cVCzKQGt23KKW1M07Yvkw       5\n\n[197112 rows x 3 columns]\n"
>>>>>>> bb52f1e... Fixed mistake
     ]
    }
   ],
   "source": [
    "import pandas as pd \n",
    "import math\n",
    "table_R = pd.read_csv(\"pruned_data.csv\")\n",
    "print(table_R)"
   ]
  },
  {
   "cell_type": "code",
   "execution_count": 164,
   "metadata": {},
   "outputs": [
    {
     "name": "stdout",
     "output_type": "stream",
     "text": [
      "Sample data should have 9856 rows \n",
      "\n",
      "9856\n"
     ]
    }
   ],
   "source": [
    "print(\"Sample data should have {} rows \\n\".format(math.ceil(len(table_R)*0.05)))\n",
    "sample_data = table_R.sample(frac=0.05)\n",
    "print(len(sample_data))"
   ]
  },
  {
   "cell_type": "code",
   "execution_count": 165,
   "metadata": {
    "tags": []
   },
   "outputs": [
    {
     "output_type": "stream",
     "name": "stdout",
     "text": [
      "Int64Index([ 47781,  70965,    597, 189061, 192119,  22090,  61720,  57755,\n              4264, 180759,\n            ...\n              2905,  98708, 141446, 176754, 130098,  39927,  85523, 175884,\n            156255,  59688],\n           dtype='int64', length=9856)\n"
     ]
    }
   ],
   "source": [
    "print(sample_data.index) # sampled indexes\n",
    "\n",
    "# Setting sample ratings to Nan\n",
    "for index in sample_data.index:\n",
    "    table_R['Rating'].iloc[index] = np.nan"
   ]
  },
  {
   "cell_type": "code",
   "execution_count": 169,
   "metadata": {},
   "outputs": [
    {
     "name": "stdout",
     "output_type": "stream",
     "text": [
<<<<<<< HEAD
      "After we remove the samples R should have 187255\n",
      "187255\n"
=======
      "                       User_ID             Buisness_ID  Rating\n0       TZQSUDDcA4ek5gBd6BzcjA  qUWqjjjfpB2-4P3He5rsKw     4.0\n1       TZQSUDDcA4ek5gBd6BzcjA  6n_MDeYxU1ihB38be9TkVA     4.0\n2       TZQSUDDcA4ek5gBd6BzcjA  jo4KmAqlZ7vxjHIP7IIkAw     5.0\n3       TZQSUDDcA4ek5gBd6BzcjA  dsAcgF6qtZy2m6d_yWCrGQ     4.0\n4       TZQSUDDcA4ek5gBd6BzcjA  siaRCT2-PkyeXUVKrywcTg     4.0\n...                        ...                     ...     ...\n197107  3L3CI2Om_2SE3T6hxrJKPQ  j_hB9Gt3VMJAbA2JyvyFjw     4.0\n197108  3L3CI2Om_2SE3T6hxrJKPQ  WKcVegcUjAld1S737a_QHw     4.0\n197109  3L3CI2Om_2SE3T6hxrJKPQ  1FL3oE2mqq_EFAYPd1TWUg     5.0\n197110  3L3CI2Om_2SE3T6hxrJKPQ  hlrZHM4D48XiQtXh6cRg_w     1.0\n197111  3L3CI2Om_2SE3T6hxrJKPQ  _cVCzKQGt23KKW1M07Yvkw     5.0\n\n[197112 rows x 3 columns]\n                       User_ID             Buisness_ID  Rating\n47781   r0WMBsH20aquSDGKo5_oRA  2lo7N8RZOCS0DDxO6LPQhw     NaN\n70965   YEDnTf7d6RyXKEHDGqi9tg  y-g76lPfb4E5LdKVxFF0RQ     NaN\n597     JnPIjvC0cmooNDfsa9BmXg  5r6-G9C4YLbC7Ziz57l3rQ     NaN\n189061                  #NAME?  HHvO4MgBFabsmlInou6viQ     NaN\n192119  cdpO0F0kGP07FVCRp8RBXw  OA1o0ixPWw-maEq2CF1Qag     NaN\n...                        ...                     ...     ...\n39927   BqAMAM9wkjUyOJzqYOHg5g  O-uIEuv7JLUHajkemx_sVw     NaN\n85523   NtD-rHQYR0Ke2uMGArABoA  O66Zy8Y13VBm72ZDhS4fIg     NaN\n175884  LYHQ_anXo-4MqYipQWsezA  2auigv5pF08RjJ8CL1dIVw     NaN\n156255  c-_Y9Wz0aw4QCkUH93u3hg  Vf_RHj0f1VViEF6OYnEfUA     NaN\n59688   CjbAHpyZW5ExEXk5us8JtQ  ovnqQaQ8BsPgDoJ4nlYBUw     NaN\n\n[9856 rows x 3 columns]\n"
>>>>>>> bb52f1e... Fixed mistake
     ]
    },
    {
     "output_type": "execute_result",
     "data": {
      "text/plain": [
       "User_ID        r0WMBsH20aquSDGKo5_oRA\n",
       "Buisness_ID    2lo7N8RZOCS0DDxO6LPQhw\n",
       "Rating                            NaN\n",
       "Name: 47781, dtype: object"
      ]
     },
     "metadata": {},
     "execution_count": 169
    }
   ],
   "source": [
    "# Proof that ratings changed to nan\n",
    "print(table_R)\n",
    "print(table_R.iloc[sample_data.index])"
   ]
  },
  {
   "cell_type": "code",
   "execution_count": 18,
   "metadata": {},
   "outputs": [
    {
     "name": "stdout",
     "output_type": "stream",
     "text": [
      "7602\n"
     ]
    }
   ],
   "source": [
    "bs = []\n",
    "for x in range(len(data)):\n",
    "    if data[x]['review_count']>=15:\n",
    "        bs.append(data[x])\n",
    "print(len(bs))"
   ]
  },
  {
   "cell_type": "code",
   "execution_count": null,
   "metadata": {
    "scrolled": false
   },
   "outputs": [],
   "source": []
  },
  {
   "cell_type": "code",
   "execution_count": null,
   "metadata": {},
   "outputs": [],
   "source": []
  }
 ],
 "metadata": {
  "kernelspec": {
   "display_name": "Python 3",
   "language": "python",
   "name": "python3"
  },
  "language_info": {
   "codemirror_mode": {
    "name": "ipython",
    "version": 3
   },
   "file_extension": ".py",
   "mimetype": "text/x-python",
   "name": "python",
   "nbconvert_exporter": "python",
   "pygments_lexer": "ipython3",
   "version": "3.8.3"
  }
 },
 "nbformat": 4,
 "nbformat_minor": 4
}
