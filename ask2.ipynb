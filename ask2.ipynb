{
 "cells": [
  {
   "cell_type": "markdown",
   "metadata": {},
   "source": [
    "# ΓΙΝΕΤΑΙ ΧΡΗΣΗ FREE PASS ΚΑΙ ΟΧΙ ΠΟΛΙΤΙΚΗ ΓΙΑ ΚΑΘΥΣΤΕΡΗΜΕΝΕΣ ΑΣΚΗΣΕΙΣ."
   ]
  },
  {
   "cell_type": "markdown",
   "metadata": {},
   "source": [
    "# ΑΣΚΗΣΗ 2\n",
    "Βασίλης Πουλος, 2805  \n",
    "Κωστάκης Ελευθέριος-Παναγιώτης, 2741"
   ]
  },
  {
   "cell_type": "markdown",
   "metadata": {},
   "source": [
    "# Step 1"
   ]
  },
  {
   "cell_type": "code",
   "execution_count": 1,
   "metadata": {},
   "outputs": [
    {
     "name": "stdout",
     "output_type": "stream",
     "text": [
      "Read file in 0.059 mins\n"
     ]
    }
   ],
   "source": [
    "import pandas as pd\n",
    "import numpy as np\n",
    "import json\n",
    "import time\n",
    "\n",
    "leftK_path = '/home/left/Desktop/dataMining/set2/ask2/'\n",
    "\n",
    "filename = 'yelp_academic_dataset_business.json'\n",
    "\n",
    "\n",
    "start = time.time()\n",
    "# Store all businesses\n",
    "data = [json.loads(line) for line in \n",
    "        open(leftK_path + filename, 'r', encoding=\"utf8\")]\n",
    "\n",
    "stop = time.time()\n",
    "print(\"Read file in {:.3f} mins\".format((stop-start)/60))"
   ]
  },
  {
   "cell_type": "code",
   "execution_count": 2,
   "metadata": {
    "scrolled": true
   },
   "outputs": [],
   "source": [
    "# Keep businesses which are located in Toronto\n",
    "data = [x for x in data if x['city']=='Toronto']\n",
    "data = np.array(data) # Convert list to numpy array\n",
    "\n",
    "# Create an array with Toronto located businesses with more than 15 reviews\n",
    "business_col = np.array([])\n",
    "for i in range(len(data)):\n",
    "    if data[i]['review_count']>=15:\n",
    "        business_col = np.append(business_col,data[i]['business_id'])"
   ]
  },
  {
   "cell_type": "code",
   "execution_count": 3,
   "metadata": {},
   "outputs": [],
   "source": [
    "# Helping function to check if a business is in business_col (Toronto and >=15 reviews)\n",
    "def get_business_index(business_id):\n",
    "    return np.where(business_col == business_id)[0]"
   ]
  },
  {
   "cell_type": "code",
   "execution_count": 4,
   "metadata": {},
   "outputs": [
    {
     "name": "stdout",
     "output_type": "stream",
     "text": [
      "Read file in 9.845 mins\n"
     ]
    }
   ],
   "source": [
    "filename = 'yelp_academic_dataset_review.json'\n",
    "start = time.time()\n",
    "\n",
    "user_business = []\n",
    "# Read the json review file line by line and keep the reviews referring to business_col \n",
    "with open(leftK_path + filename,'r',encoding=\"utf8\") as reviews_file:\n",
    "\n",
    "    for line in reviews_file:\n",
    "        line = json.loads(line)\n",
    "        ind = get_business_index(line['business_id'])\n",
    "\n",
    "        if ind.size>0:\n",
    "            user_business.append([line['user_id'],line['business_id'], line['stars']])\n",
    "            \n",
    "stop = time.time()\n",
    "print(\"Read file in {:.3f} mins\".format((stop-start)/60))"
   ]
  },
  {
   "cell_type": "code",
   "execution_count": 5,
   "metadata": {},
   "outputs": [],
   "source": [
    "# User business have all the reviews we want. But using numpy unique will keep the first occurency.\n",
    "# We want to keep last occurency, so a smart way to do so is to read our list with all pairs of \n",
    "# type (UserID, BusinessID, Rating) upside-down(reverse). Then call unique and reconstruct the \n",
    "# total reviews with the give indices.\n",
    "user_business.reverse()\n",
    "from operator import itemgetter\n",
    "user_bus_sorted = sorted(user_business, key=itemgetter(0,1))\n",
    "\n",
    "user_bus_sorted = np.array(user_bus_sorted)\n",
    "pairs = user_bus_sorted[:,0:2]\n",
    "_, idx = np.unique(pairs, axis=0, return_index=True)\n",
    "total_reviews = user_bus_sorted[idx]"
   ]
  },
  {
   "cell_type": "code",
   "execution_count": 6,
   "metadata": {},
   "outputs": [
    {
     "name": "stdout",
     "output_type": "stream",
     "text": [
      "Sparse array created in 2.962 mins\n"
     ]
    },
    {
     "data": {
      "text/plain": [
       "(7602, 5677)"
      ]
     },
     "execution_count": 6,
     "metadata": {},
     "output_type": "execute_result"
    }
   ],
   "source": [
    "# Take the userID column and keep the unique users. Do a for-loop to keep users with >=15 reviews.\n",
    "users = total_reviews[:,0]\n",
    "unique_users, counts = np.unique(users, return_counts=True)\n",
    "uniq_users = []\n",
    "\n",
    "for i in range(len(unique_users)):\n",
    "    if counts[i]>=15:\n",
    "        uniq_users.append(unique_users[i])\n",
    "uniq_users = np.array(uniq_users)\n",
    "\n",
    "# Here keep the unique businesses column\n",
    "businesses = total_reviews[:,1]\n",
    "unique_businesses = np.unique(businesses)\n",
    "\n",
    "start = time.time()\n",
    "# Create the sparse_array using the unique users(rows) and unique businesses (columns)\n",
    "sparse = np.zeros((len(unique_businesses), len(uniq_users)))\n",
    "for i in range(len(unique_businesses)):\n",
    "    user_index = np.where(unique_businesses[i] == total_reviews)[0]\n",
    "\n",
    "    for j in range(len(user_index)):\n",
    "        unique_user_ind = np.where(total_reviews[user_index[j]][0] == uniq_users) \n",
    "        if unique_user_ind[0].size>0:\n",
    "            sparse[i][unique_user_ind[0][0]] = int(float(total_reviews[user_index[j]][2]))\n",
    "            \n",
    "stop = time.time()\n",
    "print(\"Sparse array created in {:.3f} mins\".format((stop-start)/60))\n",
    "\n",
    "# Sparse array shape indicates the initial unique users and unqiue businesses\n",
    "sparse.shape"
   ]
  },
  {
   "cell_type": "code",
   "execution_count": 8,
   "metadata": {},
   "outputs": [
    {
     "data": {
      "text/plain": [
       "(4092, 4794)"
      ]
     },
     "execution_count": 8,
     "metadata": {},
     "output_type": "execute_result"
    }
   ],
   "source": [
    "# Prune until nothing to delete\n",
    "\n",
    "stop=0\n",
    "while(stop==0):\n",
    "    # prune the rows(businesses with below 15 reviews)\n",
    "    index_to_delete = []\n",
    "    for i in range(sparse.shape[0]):\n",
    "        nonzero_indexes = np.nonzero(sparse[i])\n",
    "        if len(nonzero_indexes[0])<15:\n",
    "            index_to_delete.append(i)\n",
    "            \n",
    "    #make new sparse array with deleted items and unique_businesses to track ids\n",
    "    unique_businesses = np.delete(unique_businesses, index_to_delete)\n",
    "    sparse = np.delete(sparse, index_to_delete, axis=0)\n",
    "    \n",
    "    #prune the columns(users)\n",
    "    transposed_sparse = np.transpose(sparse)\n",
    "    columns_to_delete = []\n",
    "    for i in range(transposed_sparse.shape[0]):\n",
    "        nonzero_values = np.nonzero(transposed_sparse[i])\n",
    "        if len(nonzero_values[0])<15:\n",
    "            columns_to_delete.append(i)\n",
    "            \n",
    "    #make new sparse array with deleted items and uniq_users to track ids\n",
    "    uniq_users = np.delete(uniq_users, columns_to_delete)\n",
    "    sparse = np.delete(sparse, columns_to_delete, axis=1)\n",
    "    \n",
    "    # If nothing to delete -> stop\n",
    "    if len(index_to_delete)==0 and len(columns_to_delete)==0:\n",
    "        stop=1\n",
    "\n",
    "# After pruning we have our sparse array reshaped\n",
    "sparse.shape"
   ]
  },
  {
   "cell_type": "code",
   "execution_count": 9,
   "metadata": {},
   "outputs": [
    {
     "name": "stdout",
     "output_type": "stream",
     "text": [
      "Data list created in 0.202 mins\n"
     ]
    }
   ],
   "source": [
    "# Create the new data, create a list([userID,businessID,rating]) using our sparse array data\n",
    "data_csv = []\n",
    "start = time.time()\n",
    "for i in range(sparse.shape[1]):\n",
    "    for j in range(sparse.shape[0]):\n",
    "        if sparse[j][i]>0:\n",
    "            data_csv.append([uniq_users[i],unique_businesses[j], sparse[j][i]])\n",
    "stop = time.time()\n",
    "print(\"Data list created in {:.3f} mins\".format((stop-start)/60))"
   ]
  },
  {
   "cell_type": "code",
   "execution_count": 10,
   "metadata": {},
   "outputs": [],
   "source": [
    "# Load the target file -- we want our data_csv to be exactly the same with pruned_data.csv\n",
    "table_R = pd.read_csv(\"pruned_data.csv\", header = None)\n",
    "table_list = table_R.values.tolist()"
   ]
  },
  {
   "cell_type": "code",
   "execution_count": 11,
   "metadata": {},
   "outputs": [],
   "source": [
    "# To check if our data are the same we need to sort both with the same way(here by (userID,businessID) )\n",
    "from operator import itemgetter\n",
    "data_csv = sorted(data_csv, key=itemgetter(0,1), reverse=True)\n",
    "table_R = sorted(table_list, key=itemgetter(0,1), reverse=True)"
   ]
  },
  {
   "cell_type": "code",
   "execution_count": 12,
   "metadata": {},
   "outputs": [
    {
     "data": {
      "text/plain": [
       "True"
      ]
     },
     "execution_count": 12,
     "metadata": {},
     "output_type": "execute_result"
    }
   ],
   "source": [
    "# Convert our lists to numpy array to check if they are exactly the same using array_equal()\n",
    "table_R = np.array(table_R)\n",
    "data_csv = np.array(data_csv)\n",
    "np.array_equal(table_R,data_csv)"
   ]
  },
  {
   "cell_type": "markdown",
   "metadata": {},
   "source": [
    "# Step 2"
   ]
  },
  {
   "cell_type": "code",
   "execution_count": 13,
   "metadata": {
    "scrolled": true
   },
   "outputs": [
    {
     "name": "stdout",
     "output_type": "stream",
     "text": [
      "                       user_id             business_id rating\n",
      "0       zzmhLxcZ4XZQyz95c_KbOA  zFR99jgMi-qzaJXIx8MXHA    4.0\n",
      "1       zzmhLxcZ4XZQyz95c_KbOA  ynmTXY9yJDiNkO4HUmxRSQ    4.0\n",
      "2       zzmhLxcZ4XZQyz95c_KbOA  v_UM-AW9YYTCbWUNa-w1Gg    5.0\n",
      "3       zzmhLxcZ4XZQyz95c_KbOA  swM_9CXxkvxEk3fDkjA6PQ    4.0\n",
      "4       zzmhLxcZ4XZQyz95c_KbOA  nktQ_aBRp5CmVOkXR0Mz1g    5.0\n",
      "...                        ...                     ...    ...\n",
      "197107  --BumyUHiO_7YsHurb9Hkw  5DDvJhkk3zsd9jBxDQpkow    4.0\n",
      "197108  --BumyUHiO_7YsHurb9Hkw  4SyAKQevPuB4punANp41-Q    4.0\n",
      "197109  --BumyUHiO_7YsHurb9Hkw  41o1FUbCYKJv2djtnlkzlg    3.0\n",
      "197110  --BumyUHiO_7YsHurb9Hkw  1W_gZM_uuEvJqapbIl6z9Q    5.0\n",
      "197111  --BumyUHiO_7YsHurb9Hkw  -b94nkPVLQw95zgtDhcpYA    1.0\n",
      "\n",
      "[197112 rows x 3 columns]\n"
     ]
    }
   ],
   "source": [
    "import pandas as pd \n",
    "import math\n",
    "import numpy as np\n",
    "import json\n",
    "\n",
    "# We have the file ready from Step 1\n",
    "data_table = pd.DataFrame(data_csv, columns = ['user_id', 'business_id', 'rating'])\n",
    "print(data_table)"
   ]
  },
  {
   "cell_type": "code",
   "execution_count": 14,
   "metadata": {},
   "outputs": [
    {
     "name": "stdout",
     "output_type": "stream",
     "text": [
      "Sample data should have 9856 rows \n",
      "\n",
      "9856\n"
     ]
    }
   ],
   "source": [
    "print(\"Sample data should have {} rows \\n\".format(math.ceil(len(table_R)*0.05)))\n",
    "sample_data = data_table.sample(frac=0.05)\n",
    "print(len(sample_data))"
   ]
  },
  {
   "cell_type": "code",
   "execution_count": 15,
   "metadata": {},
   "outputs": [],
   "source": [
    "# Setting sample ratings to zero\n",
    "for index in sample_data.index:\n",
    "    data_table.at[index, 'rating'] = 0"
   ]
  },
  {
   "cell_type": "code",
   "execution_count": 16,
   "metadata": {},
   "outputs": [],
   "source": [
    "# Create the numpy array, unique_users and unique_business lists\n",
    "data_table_R = data_table.to_numpy()\n",
    "unique_users = np.unique(data_table_R[:,0])\n",
    "unique_business = np.unique(data_table_R[:,1])"
   ]
  },
  {
   "cell_type": "markdown",
   "metadata": {},
   "source": [
    "#### The main idea here is to create the sparse_array row by row using and unique_business as indices. What we do is to take for every unique user all the businesses that there are ratings. So let's say we have the userID 'iamuserid1' in row 0 in unique_users, then we get all business IDS that that user has a rating. Finally we have all businessIDS indices, for example let's say 'iamuserid1' has ratings for businesses which are located in index 2,55,123,222 in unique_business array. We will use these values as our columns indices in the sparse_array, so we have to assign ratings at sparse(0,2), sparse(0,55), sparse(0,123), sparse(0,222) .. etc. for every user.  "
   ]
  },
  {
   "cell_type": "code",
   "execution_count": 17,
   "metadata": {},
   "outputs": [
    {
     "name": "stdout",
     "output_type": "stream",
     "text": [
      "Sparse array created in 2.199 mins\n"
     ]
    }
   ],
   "source": [
    "start = time.time()\n",
    "\n",
    "sparse_array = np.zeros((len(unique_users), len(unique_business)))\n",
    "# Create the sparse_array\n",
    "for i in range(len(unique_users)):\n",
    "    # Take all business index that a user has a rating\n",
    "    business_index = np.where( unique_users[i] == data_table['user_id']) \n",
    "    \n",
    "    # For all the businesses indexes find its index in unique_business and assign that index value\n",
    "    # in the sparse array too.\n",
    "    for j in range(len(business_index[0])):\n",
    "        temp_business = data_table['business_id'][business_index[0][j]] #take business_id for given index\n",
    "        unique_business_ind = np.where(temp_business == unique_business)\n",
    "        sparse_array[i][unique_business_ind[0][0]] = data_table['rating'][business_index[0][j]]\n",
    "\n",
    "stop = time.time()\n",
    "print(\"Sparse array created in {:.3f} mins\".format((stop-start)/60))"
   ]
  },
  {
   "cell_type": "markdown",
   "metadata": {},
   "source": [
    "# Βημα 3"
   ]
  },
  {
   "cell_type": "markdown",
   "metadata": {},
   "source": [
    "### Get user similarities table"
   ]
  },
  {
   "cell_type": "code",
   "execution_count": 18,
   "metadata": {},
   "outputs": [],
   "source": [
    "from scipy import sparse\n",
    "from sklearn.metrics.pairwise import cosine_similarity\n",
    "similarities = cosine_similarity(sparse_array)\n",
    "sample_array = sample_data.to_numpy()"
   ]
  },
  {
   "cell_type": "markdown",
   "metadata": {},
   "source": [
    "### This is helping functions to get user_id or business_id index in unique_users/business array"
   ]
  },
  {
   "cell_type": "code",
   "execution_count": 19,
   "metadata": {},
   "outputs": [],
   "source": [
    "def find_index(user_id):\n",
    "    ind = np.where(user_id  == unique_users)\n",
    "    return ind[0][0]\n",
    "def find_business(business_id):\n",
    "    ind = np.where(business_id == unique_business)\n",
    "    return ind[0][0]"
   ]
  },
  {
   "cell_type": "markdown",
   "metadata": {},
   "source": [
    "### UCF prediction function"
   ]
  },
  {
   "cell_type": "code",
   "execution_count": 20,
   "metadata": {},
   "outputs": [],
   "source": [
    "def UCF_prediction(user1, common_users, ratings, k_values):\n",
    "    user_ind1 = find_index(user1)\n",
    "    similar = []\n",
    "    predictions_k = []\n",
    "    # For every common user find his similarity to our user\n",
    "    for i in range(len(common_users)):\n",
    "        temp_ind = find_index(common_users[i])\n",
    "        similar.append([common_users[i], float(similarities[user_ind1][temp_ind]), int(ratings[i])])\n",
    "    \n",
    "    # Sort similarities and take k most similar to our user\n",
    "    vectors = np.array(sorted(similar, key=itemgetter(1), reverse=True))\n",
    "    \n",
    "    # For every given k calculate the predictions for the given user\n",
    "    for k in range(len(k_values)):\n",
    "        temp_vectors = vectors[:k_values[k]]\n",
    "        \n",
    "        similarity_vector = temp_vectors[:,1].astype(float)\n",
    "        ratings_vector = temp_vectors[:,2].astype(int)\n",
    "\n",
    "        # Calculate prediction\n",
    "        numerator = 0\n",
    "        denominator = np.sum(similarity_vector)\n",
    "        for i in range(len(similarity_vector)):\n",
    "            numerator += similarity_vector[i]*ratings_vector[i]\n",
    "        predictions_k.append(numerator/denominator)\n",
    "        \n",
    "    # Return a list with predictions for the user for every k value\n",
    "    return predictions_k"
   ]
  },
  {
   "cell_type": "markdown",
   "metadata": {},
   "source": [
    "### Prepare the data and execute UCF_prediction for every given k"
   ]
  },
  {
   "cell_type": "code",
   "execution_count": 21,
   "metadata": {
    "scrolled": true
   },
   "outputs": [
    {
     "name": "stdout",
     "output_type": "stream",
     "text": [
      "UCF predictions for all given k values in 2.539 mins\n"
     ]
    }
   ],
   "source": [
    "predictions = []\n",
    "business_avg_pred = []\n",
    "k_values = [1,5,10,20,50,100,200,500,1000]\n",
    "\n",
    "start = time.time()\n",
    "for i in range(sample_array.shape[0]): # For every pair (u,b) that have missing rating\n",
    "    common_users = [] # USER_IDS THAT ALSO RATED THE GIVEN BUSINESS\n",
    "    common_ratings = [] # AND THEIR RATINGS\n",
    "    business_index = find_business(sample_array[i][1]) # Get business index\n",
    "    common_users_indexes = np.nonzero(sparse_array[:,business_index]) # FIND INDEXES FOR NONZERO VALUES ONLY!\n",
    "    for j in range(len(common_users_indexes[0])): # For every row in spars- (Actually for every user)\n",
    "        common_ratings.append(sparse_array[common_users_indexes[0][j]][business_index]) # Append ratings\n",
    "        common_users.append(unique_users[common_users_indexes[0][j]]) # Append the user_id\n",
    "\n",
    "    # Append the prediction\n",
    "    predictions.append(UCF_prediction(sample_array[i][0], common_users, common_ratings, k_values))\n",
    "    business_avg_pred.append(sum(common_ratings)/len(common_ratings))\n",
    "\n",
    "ucf_predictions = np.array(predictions)\n",
    "\n",
    "stop = time.time()\n",
    "print(\"UCF predictions for all given k values in {:.3f} mins\".format((stop-start)/60))"
   ]
  },
  {
   "cell_type": "markdown",
   "metadata": {},
   "source": [
    "# Βημα 4"
   ]
  },
  {
   "cell_type": "markdown",
   "metadata": {},
   "source": [
    "### Transposed sparse array and similarities for businesses"
   ]
  },
  {
   "cell_type": "code",
   "execution_count": 22,
   "metadata": {},
   "outputs": [],
   "source": [
    "# Get transposed sparse array and similiarities between businesses\n",
    "transposed_sparse = np.transpose(sparse_array)\n",
    "business_similarities = cosine_similarity(transposed_sparse)"
   ]
  },
  {
   "cell_type": "markdown",
   "metadata": {},
   "source": [
    "### ICF prediction function"
   ]
  },
  {
   "cell_type": "code",
   "execution_count": 23,
   "metadata": {},
   "outputs": [],
   "source": [
    "def ICF_prediction(business1, common_businesses, ratings, k_values):\n",
    "    business_ind1 = find_business(business1)\n",
    "    similar = []\n",
    "    predictions_k = []\n",
    "    \n",
    "    # For every common business find its' similarity to our business\n",
    "    for i in range(len(common_businesses)):\n",
    "        temp_ind = find_business(common_businesses[i])\n",
    "        similar.append([common_businesses[i], float(business_similarities[business_ind1][temp_ind]), int(ratings[i])])\n",
    "    \n",
    "    # Sort similarities and take k most similar to our business\n",
    "    vectors = np.array(sorted(similar, key=itemgetter(1), reverse=True))\n",
    "    \n",
    "    # For every given k calculate the predictions for the given user\n",
    "    for k in range(len(k_values)):\n",
    "        temp_vectors = vectors[:k_values[k]]\n",
    "        \n",
    "        similarity_vector = temp_vectors[:,1].astype(float)\n",
    "        ratings_vector = temp_vectors[:,2].astype(int)\n",
    "\n",
    "        # Calculate prediction\n",
    "        numerator = 0\n",
    "        denominator = np.sum(similarity_vector)\n",
    "        for i in range(len(similarity_vector)):\n",
    "            numerator += similarity_vector[i]*ratings_vector[i]\n",
    "        predictions_k.append(numerator/denominator)\n",
    "        \n",
    "    # Return a list with predictions for the user for every k value\n",
    "    return predictions_k"
   ]
  },
  {
   "cell_type": "markdown",
   "metadata": {},
   "source": [
    "### Prepare the data and execute ICF_prediction for every given k"
   ]
  },
  {
   "cell_type": "code",
   "execution_count": 24,
   "metadata": {},
   "outputs": [
    {
     "name": "stdout",
     "output_type": "stream",
     "text": [
      "ICF predictions for all given k values in 1.984 mins\n"
     ]
    }
   ],
   "source": [
    "predictions = []\n",
    "user_avg_pred = []\n",
    "k_values = [1,5,10,20,40,50,60,70,80,100]\n",
    "\n",
    "start = time.time()\n",
    "for i in range(sample_array.shape[0]): # For every pair (u,b) that have missing rating\n",
    "    common_ratings = [] # RATINGS OF ALL BUSINESS BY USER\n",
    "    common_businesses = [] # ALL BUSINESSES THE GIVEN USER HAS RATED\n",
    "    user_index = find_index(sample_array[i][0]) # Get user index\n",
    "    common_business_indexes = np.nonzero(sparse_array[user_index,:]) # FIND BUSINESSES INDEXES FOR NONZERO VALUES ONLY!\n",
    "\n",
    "    for j in range(len(common_business_indexes[0])): # For every row in spars- (Actually for every rated business)\n",
    "        common_ratings.append(transposed_sparse[common_business_indexes[0][j]][user_index]) # Append ratings\n",
    "        common_businesses.append(unique_business[common_business_indexes[0][j]]) # Append the user_id\n",
    "    # Append the prediction\n",
    "    user_avg_pred.append(sum(common_ratings)/len(common_ratings))\n",
    "    predictions.append(ICF_prediction(sample_array[i][1], common_businesses, common_ratings, k_values))\n",
    "\n",
    "    \n",
    "icf_predictions = np.array(predictions)\n",
    "\n",
    "stop = time.time()\n",
    "print(\"ICF predictions for all given k values in {:.3f} mins\".format((stop-start)/60))"
   ]
  },
  {
   "cell_type": "markdown",
   "metadata": {},
   "source": [
    "# Bonus"
   ]
  },
  {
   "cell_type": "markdown",
   "metadata": {},
   "source": [
    "### Get Correlation Coefficient"
   ]
  },
  {
   "cell_type": "code",
   "execution_count": 25,
   "metadata": {
    "scrolled": true
   },
   "outputs": [],
   "source": [
    "corr_similarities = np.corrcoef(sparse_array)"
   ]
  },
  {
   "cell_type": "markdown",
   "metadata": {},
   "source": [
    "### Modified UCF prediction function"
   ]
  },
  {
   "cell_type": "code",
   "execution_count": 26,
   "metadata": {},
   "outputs": [],
   "source": [
    "def UCF_2(user1, common_users, ratings, k_values):\n",
    "    user_ind1 = find_index(user1)\n",
    "    similar = []\n",
    "    predictions_k = []\n",
    "    common_user_avg_ratings = []\n",
    "    # For every common user find his similarity to our user\n",
    "    for i in range(len(common_users)):\n",
    "        temp_ind = find_index(common_users[i])\n",
    "        \n",
    "        # find the businesses that every common user has rated\n",
    "        # take the mean of his rates\n",
    "        business_ind = np.nonzero(sparse_array[temp_ind,:])\n",
    "\n",
    "        common_user_avg_ratings.append(\n",
    "                sum(sparse_array[temp_ind][business_ind[0]])/len(sparse_array[temp_ind][business_ind[0]]))\n",
    "\n",
    "        similar.append([common_users[i], float(corr_similarities[user_ind1][temp_ind]), int(ratings[i]),\n",
    "                        float(common_user_avg_ratings[i])])\n",
    "\n",
    "    # Sort similarities and take k most similar to our user\n",
    "    vectors = np.array(sorted(similar, key=itemgetter(1), reverse=True))\n",
    "    \n",
    "    # Calculate the mean ratings of the user\n",
    "    user1_businesses = np.nonzero(sparse_array[user_ind1,:])\n",
    "    user1_mean_ratings = sum(sparse_array[user_ind1][user1_businesses[0]])/len(sparse_array[user_ind1][user1_businesses[0]])\n",
    "\n",
    "    # For every given k calculate the predictions for the given user\n",
    "    for k in range(len(k_values)):\n",
    "        temp_vectors = vectors[:k_values[k]]\n",
    "        \n",
    "        similarity_vector = temp_vectors[:,1].astype(float)\n",
    "        ratings_vector = temp_vectors[:,2].astype(int)\n",
    "        common_user_avg_r = temp_vectors[:,3].astype(float)\n",
    "\n",
    "        # Calculate prediction\n",
    "        numerator = 0\n",
    "        denominator = np.sum(similarity_vector)\n",
    "        for i in range(len(similarity_vector)):\n",
    "            numerator += similarity_vector[i]*(ratings_vector[i]-common_user_avg_r[i])\n",
    "\n",
    "        predictions_k.append(user1_mean_ratings + (numerator/denominator))\n",
    "\n",
    "    # Return a list with predictions for the user for every k value\n",
    "    return predictions_k"
   ]
  },
  {
   "cell_type": "markdown",
   "metadata": {},
   "source": [
    "### Prepare the data and execute modified UCF prediction for every given k"
   ]
  },
  {
   "cell_type": "code",
   "execution_count": 27,
   "metadata": {
    "scrolled": false
   },
   "outputs": [
    {
     "name": "stdout",
     "output_type": "stream",
     "text": [
      "Modified UCF predictions for all given k values in 3.490 mins\n"
     ]
    }
   ],
   "source": [
    "predictions = []\n",
    "k_values = [1,5,10,20,50,100,200,500,1000]\n",
    "\n",
    "start = time.time()\n",
    "for i in range(sample_array.shape[0]): # For every pair (u,b) that have missing rating\n",
    "    common_users = []\n",
    "    common_ratings = []\n",
    "    business_index = find_business(sample_array[i][1]) # Get business index\n",
    "    common_users_indexes = np.nonzero(sparse_array[:,business_index]) # FIND INDEXES FOR NONZERO VALUES ONLY!\n",
    "    for j in range(len(common_users_indexes[0])): # For every row in spars- (Actually for every user)\n",
    "        common_ratings.append(sparse_array[common_users_indexes[0][j]][business_index]) # Append ratings\n",
    "        common_users.append(unique_users[common_users_indexes[0][j]]) # Append the user_id\n",
    "    \n",
    "    # Append the prediction\n",
    "    predictions.append(UCF_2(sample_array[i][0], common_users, common_ratings, k_values))\n",
    "    \n",
    "ucf2_predictions = np.array(predictions)\n",
    "\n",
    "stop = time.time()\n",
    "print(\"Modified UCF predictions for all given k values in {:.3f} mins\".format((stop-start)/60))"
   ]
  },
  {
   "cell_type": "markdown",
   "metadata": {},
   "source": [
    "# Step 5"
   ]
  },
  {
   "cell_type": "markdown",
   "metadata": {},
   "source": [
    "### Plot eigenvalues"
   ]
  },
  {
   "cell_type": "code",
   "execution_count": 28,
   "metadata": {},
   "outputs": [
    {
     "data": {
      "image/png": "[encoded data removed]",
      "text/plain": [
       "<Figure size 432x288 with 1 Axes>"
      ]
     },
     "metadata": {
      "needs_background": "light"
     },
     "output_type": "display_data"
    }
   ],
   "source": [
    "from scipy.sparse.linalg import svds\n",
    "import matplotlib.pyplot as plt\n",
    "\n",
    "u, s, vt = svds(sparse_array, 100, which= 'LM')\n",
    "\n",
    "plt.title('Singular Values')\n",
    "plt.ylabel('Value')\n",
    "plt.xlabel('Number of eigenvalues')\n",
    "plt.plot(s[::-1])\n",
    "plt.show()"
   ]
  },
  {
   "cell_type": "markdown",
   "metadata": {},
   "source": [
    "### Calculate predictions for each k"
   ]
  },
  {
   "cell_type": "code",
   "execution_count": 30,
   "metadata": {},
   "outputs": [
    {
     "name": "stdout",
     "output_type": "stream",
     "text": [
      "SVD predictions for all given k values in 1.585 mins\n"
     ]
    }
   ],
   "source": [
    "from scipy.sparse.linalg import svds\n",
    "\n",
    "svd_predictions =[]\n",
    "k_values = [1,5,10,20,30,40,50,75,100]\n",
    "\n",
    "start = time.time()\n",
    "for k in k_values:\n",
    "    u_k, s_k, vt_k = svds(sparse_array, k, which= 'LM')\n",
    "    s_k = np.diag(s_k)\n",
    "\n",
    "    for k in range(k, 0, -1):\n",
    "        Rk_aprrox = u_k[:, k:].dot(s_k[k:, k:]).dot(vt_k[k:,:])\n",
    "    Rk_aprrox = u_k.dot(s_k).dot(vt_k)\n",
    "    Rk_aprrox = np.where(Rk_aprrox < 0, 0, Rk_aprrox)\n",
    "    Rk_aprrox = np.where(Rk_aprrox > 5, 5, Rk_aprrox)\n",
    "    svd_predictions.append(Rk_aprrox)\n",
    "\n",
    "svd_predictions = np.array(svd_predictions)\n",
    "\n",
    "svd_pred = []\n",
    "for i in range(svd_predictions.shape[0]):\n",
    "    temp_preds = []\n",
    "    for j in range(len(sample_array)):\n",
    "        temp_preds.append(svd_predictions[i][find_index(sample_array[j][0])][find_business(sample_array[j][1])])\n",
    "    svd_pred.append(temp_preds)\n",
    "\n",
    "svd_predictions = np.array(svd_pred)\n",
    "\n",
    "stop = time.time()\n",
    "print(\"SVD predictions for all given k values in {:.3f} mins\".format((stop-start)/60))"
   ]
  },
  {
   "cell_type": "markdown",
   "metadata": {},
   "source": [
    "# Step 6"
   ]
  },
  {
   "cell_type": "code",
   "execution_count": 31,
   "metadata": {},
   "outputs": [],
   "source": [
    "true_ratings = sample_data['rating'].values.astype(float).astype(int)\n",
    "\n",
    "############################\n",
    "# RMSE FOR UCF\n",
    "RMSE_UCF = []\n",
    "for i in range(ucf_predictions[0].size):\n",
    "    predicted_ratings = np.array(ucf_predictions[:,i])\n",
    "    sum_of_difference = 0\n",
    "    for j in range(sample_data.shape[0]):\n",
    "        sum_of_difference += (predicted_ratings[j] - true_ratings[j])**2\n",
    "    RMSE_UCF.append(math.sqrt(sum_of_difference/sample_data.shape[0]))\n",
    "    \n",
    "############################\n",
    "# RMSE FOR ICF\n",
    "RMSE_ICF = []\n",
    "for i in range(icf_predictions[0].size):\n",
    "    predicted_ratings = np.array(icf_predictions[:,i])\n",
    "    sum_of_difference = 0\n",
    "    for j in range(sample_data.shape[0]):\n",
    "        sum_of_difference += (predicted_ratings[j] - true_ratings[j])**2\n",
    "    RMSE_ICF.append(math.sqrt(sum_of_difference/sample_data.shape[0]))\n",
    "    \n",
    "    \n",
    "############################\n",
    "# RMSE FOR MODIFIED UCF\n",
    "for i in range(ucf2_predictions.shape[0]):\n",
    "    for j in range(ucf2_predictions.shape[1]):\n",
    "        if ucf2_predictions[i][j]<0:\n",
    "            ucf2_predictions[i][j] = 0\n",
    "        if ucf2_predictions[i][j]>5:\n",
    "            ucf2_predictions[i][j] = 5\n",
    "\n",
    "RMSE_UCF2 = []\n",
    "for i in range(ucf2_predictions[0].size):\n",
    "    predicted_ratings = np.array(ucf2_predictions[:,i])\n",
    "    sum_of_difference = 0\n",
    "    for j in range(sample_data.shape[0]):\n",
    "        sum_of_difference += (predicted_ratings[j] - true_ratings[j])**2\n",
    "    RMSE_UCF2.append(math.sqrt(sum_of_difference/sample_data.shape[0]))\n",
    "\n",
    "\n",
    "############################\n",
    "# RMSE FOR SVD\n",
    "RMSE_SVD = []\n",
    "for i in range(svd_predictions.shape[0]):\n",
    "    predicted_ratings = np.array(svd_predictions[i,:])\n",
    "    sum_of_difference = 0\n",
    "    for j in range(sample_data.shape[0]):\n",
    "        sum_of_difference += (predicted_ratings[j] - true_ratings[j])**2\n",
    "    RMSE_SVD.append(math.sqrt(sum_of_difference/sample_data.shape[0]))\n",
    "    \n",
    "    \n",
    "############################\n",
    "# RMSE FOR USER AVERAGE\n",
    "sum_of_difference = 0\n",
    "for i in range(sample_data.shape[0]):\n",
    "    sum_of_difference += (user_avg_pred[i] - true_ratings[i])**2\n",
    "RMSE_UA = math.sqrt(sum_of_difference/sample_data.shape[0])\n",
    "\n",
    "\n",
    "############################\n",
    "# RMSE FOR BUSINESS AVERAGE\n",
    "sum_of_difference = 0\n",
    "for i in range(sample_data.shape[0]):\n",
    "    sum_of_difference += (business_avg_pred[i] - true_ratings[i])**2\n",
    "RMSE_ΒΑ = math.sqrt(sum_of_difference/sample_data.shape[0])"
   ]
  },
  {
   "cell_type": "code",
   "execution_count": 36,
   "metadata": {},
   "outputs": [
    {
     "data": {
      "text/plain": [
       "[[0.9889004698325338, 'RMSE_UCF2'],\n",
       " [0.996927790727206, 'RMSE_BA'],\n",
       " [1.0039482142184168, 'RMSE_UCF'],\n",
       " [1.0238300442069046, 'RMSE_ICF'],\n",
       " [1.0251526611296322, 'RMSE_UA'],\n",
       " [3.580597714206923, 'RMSE_SVD']]"
      ]
     },
     "execution_count": 36,
     "metadata": {},
     "output_type": "execute_result"
    }
   ],
   "source": [
    "results = []\n",
    "results.append([min(RMSE_UCF2), 'RMSE_UCF2'])\n",
    "results.append([min(RMSE_UCF), 'RMSE_UCF'])\n",
    "results.append([min(RMSE_ICF), 'RMSE_ICF'])\n",
    "results.append([min(RMSE_SVD), 'RMSE_SVD'])\n",
    "results.append([RMSE_ΒΑ, 'RMSE_BA'])\n",
    "results.append([RMSE_UA, 'RMSE_UA'])\n",
    "\n",
    "results = sorted(results, key=itemgetter(0))\n",
    "results"
   ]
  },
  {
   "cell_type": "code",
   "execution_count": 38,
   "metadata": {},
   "outputs": [
    {
     "data": {
      "image/png": "[encoded data removed]",
      "text/plain": [
       "<Figure size 720x432 with 1 Axes>"
      ]
     },
     "metadata": {
      "needs_background": "light"
     },
     "output_type": "display_data"
    }
   ],
   "source": [
    "import matplotlib.pyplot as plt\n",
    "plt.figure(figsize=(10, 6))\n",
    "x = [1,5,10,20,50,100,200,500,1000]\n",
    "plt.plot(x, RMSE_UCF, \"r\", label = \"UCF\")\n",
    "plt.legend()\n",
    "plt.ylabel(\"RMSE\")\n",
    "plt.xlabel(\"Top-K recommendations\");"
   ]
  },
  {
   "cell_type": "code",
   "execution_count": 45,
   "metadata": {},
   "outputs": [
    {
     "data": {
      "image/png": "[encoded data removed]",
      "text/plain": [
       "<Figure size 720x432 with 1 Axes>"
      ]
     },
     "metadata": {
      "needs_background": "light"
     },
     "output_type": "display_data"
    }
   ],
   "source": [
    "plt.figure(figsize=(10, 6))\n",
    "x = [1,5,10,20,40,50,60,70,80,100]\n",
    "plt.plot(x, RMSE_ICF, \"b\", label = \"ICF\")\n",
    "plt.legend()\n",
    "plt.ylabel(\"RMSE\")\n",
    "plt.xlabel(\"Top-K recommendations\");"
   ]
  },
  {
   "cell_type": "code",
   "execution_count": 46,
   "metadata": {
    "scrolled": false
   },
   "outputs": [
    {
     "data": {
      "image/png": "[encoded data removed]",
      "text/plain": [
       "<Figure size 720x432 with 1 Axes>"
      ]
     },
     "metadata": {
      "needs_background": "light"
     },
     "output_type": "display_data"
    }
   ],
   "source": [
    "plt.figure(figsize=(10, 6))\n",
    "x = [1,5,10,20,50,100,200,500,1000]\n",
    "plt.plot(x, RMSE_UCF2, \"b\", label = \"MODIFIED UCF\")\n",
    "plt.legend()\n",
    "plt.ylabel(\"RMSE\")\n",
    "plt.xlabel(\"Top-K recommendations\");"
   ]
  },
  {
   "cell_type": "code",
   "execution_count": 47,
   "metadata": {},
   "outputs": [
    {
     "data": {
      "image/png": "[encoded data removed]",
      "text/plain": [
       "<Figure size 720x432 with 1 Axes>"
      ]
     },
     "metadata": {
      "needs_background": "light"
     },
     "output_type": "display_data"
    }
   ],
   "source": [
    "plt.figure(figsize=(10, 6))\n",
    "k_values = [1,5,10,20,30,40,50,75,100]\n",
    "plt.plot(x, RMSE_SVD, \"r\", label = \"SVD\")\n",
    "plt.legend()\n",
    "plt.ylabel(\"RMSE\")\n",
    "plt.xlabel(\"Top-K recommendations\");"
   ]
  },
  {
   "cell_type": "markdown",
   "metadata": {},
   "source": [
    "Παρατηρούμε ότι η καλύτερη μέθοδος είναι αναμενόμενα η παραλλαγή της UCF καθώς προβλέπει τις αποκλίσεις από την μέση τιμή, ενώ ακολουθούν με τη σειρά οι BA(Business Average), UCF, ICF, UA(User Average), SVD. Έκπληξη αποτελούν οι μέθοδοι Business Average και User Average καθώς είναι και οι πιο απλοί στην υλοποίηση τους. Επίσης το SVD δεν αποτελεί έκπληξη που είναι η χειρότερη μέθοδος καθώς είναι δύσκολο να γίνει επιλογή των σημαντικότερων πινάκων για την επανακατασκευή του αραιού πίνακα."
   ]
  }
 ],
 "metadata": {
  "kernelspec": {
   "display_name": "Python 3",
   "language": "python",
   "name": "python3"
  },
  "language_info": {
   "codemirror_mode": {
    "name": "ipython",
    "version": 3
   },
   "file_extension": ".py",
   "mimetype": "text/x-python",
   "name": "python",
   "nbconvert_exporter": "python",
   "pygments_lexer": "ipython3",
   "version": "3.8.3"
  }
 },
 "nbformat": 4,
 "nbformat_minor": 4
}
