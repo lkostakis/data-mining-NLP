{
 "cells": [
  {
   "cell_type": "code",
   "execution_count": 1,
   "metadata": {},
   "outputs": [],
   "source": [
    "import pandas as pd\n",
    "import json\n",
    "\n",
    "data = [json.loads(line) for line in \n",
    "        open('/home/left/Desktop/dataMining/set2/ask2/yelp_academic_dataset_business.json', 'r')]"
   ]
  },
  {
   "cell_type": "code",
   "execution_count": 2,
   "metadata": {
    "scrolled": true
   },
   "outputs": [],
   "source": [
    "data = [x for x in data if x['city']=='Toronto']"
   ]
  },
  {
   "cell_type": "code",
   "execution_count": 3,
   "metadata": {},
   "outputs": [
    {
     "data": {
      "text/plain": [
       "{'business_id': 'EosRKXIGeSWFYWwpkbhNnA',\n",
       " 'name': 'Xtreme Couture',\n",
       " 'address': '700 Kipling Avenue Etobicoke',\n",
       " 'city': 'Toronto',\n",
       " 'state': 'ON',\n",
       " 'postal_code': 'M8Z 5G3',\n",
       " 'latitude': 43.6245394916,\n",
       " 'longitude': -79.5291079302,\n",
       " 'stars': 3.0,\n",
       " 'review_count': 16,\n",
       " 'is_open': 1,\n",
       " 'attributes': {'GoodForKids': 'True',\n",
       "  'ByAppointmentOnly': 'True',\n",
       "  'BusinessParking': \"{'garage': False, 'street': False, 'validated': False, 'lot': False, 'valet': False}\",\n",
       "  'BikeParking': 'False'},\n",
       " 'categories': 'Martial Arts, Gyms, Fitness & Instruction, Active Life',\n",
       " 'hours': {'Monday': '5:30-23:0',\n",
       "  'Tuesday': '5:30-23:0',\n",
       "  'Wednesday': '5:30-23:0',\n",
       "  'Thursday': '5:30-23:0',\n",
       "  'Friday': '5:30-23:0',\n",
       "  'Saturday': '8:0-19:0',\n",
       "  'Sunday': '8:0-17:0'}}"
      ]
     },
     "execution_count": 3,
     "metadata": {},
     "output_type": "execute_result"
    }
   ],
   "source": [
    "data[0]"
   ]
  },
  {
   "cell_type": "code",
   "execution_count": 10,
   "metadata": {
    "scrolled": false
   },
   "outputs": [
    {
     "name": "stdout",
     "output_type": "stream",
     "text": [
      "x : 0  u : EosRKXIGeSWFYWwpkbhNnA\n",
      "x : 0  u : EosRKXIGeSWFYWwpkbhNnA\n",
      "x : 0  u : EosRKXIGeSWFYWwpkbhNnA\n",
      "x : 0  u : EosRKXIGeSWFYWwpkbhNnA\n",
      "x : 0  u : EosRKXIGeSWFYWwpkbhNnA\n",
      "x : 0  u : EosRKXIGeSWFYWwpkbhNnA\n",
      "x : 0  u : EosRKXIGeSWFYWwpkbhNnA\n",
      "x : 0  u : EosRKXIGeSWFYWwpkbhNnA\n",
      "x : 0  u : EosRKXIGeSWFYWwpkbhNnA\n",
      "x : 0  u : EosRKXIGeSWFYWwpkbhNnA\n",
      "x : 0  u : EosRKXIGeSWFYWwpkbhNnA\n",
      "x : 0  u : EosRKXIGeSWFYWwpkbhNnA\n",
      "x : 0  u : EosRKXIGeSWFYWwpkbhNnA\n",
      "x : 0  u : EosRKXIGeSWFYWwpkbhNnA\n",
      "x : 0  u : EosRKXIGeSWFYWwpkbhNnA\n",
      "x : 0  u : EosRKXIGeSWFYWwpkbhNnA\n",
      "x : 0  u : EosRKXIGeSWFYWwpkbhNnA\n"
     ]
    },
    {
     "data": {
      "text/plain": [
       "'2SbyRgHWuWNlq18eHAx95Q'"
      ]
     },
     "execution_count": 10,
     "metadata": {},
     "output_type": "execute_result"
    }
   ],
   "source": [
    "\n",
    "with open('/home/left/Desktop/dataMining/set2/ask2/yelp_academic_dataset_review.json') as reviews_file:\n",
    "    #business_id = [next(reviews_file) for x in range(1000)]\n",
    "   #for y in range(100):\n",
    "        #review_line = next(reviews_file)\n",
    "        #business_id = json.loads(review_line)\n",
    "        \n",
    "    for x in range(len(data)):\n",
    "        for line in reviews_file:\n",
    "            #review_line = next(reviews_file)\n",
    "            business_id = json.loads(line)\n",
    "            \n",
    "            if data[x]['business_id'] == business_id['business_id']:\n",
    "\n",
    "                print(\"x :\",x,\" u :\",business_id['business_id'])\n",
    "        break\n",
    "(business_id['business_id'])"
   ]
  },
  {
   "cell_type": "code",
   "execution_count": 22,
   "metadata": {},
   "outputs": [
    {
     "ename": "NameError",
     "evalue": "name 'head' is not defined",
     "output_type": "error",
     "traceback": [
      "\u001b[0;31m---------------------------------------------------------------------------\u001b[0m",
      "\u001b[0;31mNameError\u001b[0m                                 Traceback (most recent call last)",
      "\u001b[0;32m<ipython-input-22-f320adc4b1d3>\u001b[0m in \u001b[0;36m<module>\u001b[0;34m\u001b[0m\n\u001b[0;32m----> 1\u001b[0;31m \u001b[0mtype\u001b[0m\u001b[0;34m(\u001b[0m\u001b[0mhead\u001b[0m\u001b[0;34m[\u001b[0m\u001b[0;36m0\u001b[0m\u001b[0;34m]\u001b[0m\u001b[0;34m)\u001b[0m\u001b[0;34m\u001b[0m\u001b[0;34m\u001b[0m\u001b[0m\n\u001b[0m",
      "\u001b[0;31mNameError\u001b[0m: name 'head' is not defined"
     ]
    }
   ],
   "source": []
  },
  {
   "cell_type": "code",
   "execution_count": 38,
   "metadata": {},
   "outputs": [
    {
     "data": {
      "text/plain": [
       "'EosRKXIGeSWFYWwpkbhNnA'"
      ]
     },
     "execution_count": 38,
     "metadata": {},
     "output_type": "execute_result"
    }
   ],
   "source": [
    "data[0]['business_id']"
   ]
  },
  {
   "cell_type": "code",
   "execution_count": 52,
   "metadata": {
    "scrolled": true
   },
   "outputs": [
    {
     "data": {
      "text/plain": [
       "['{\"review_id\":\"xQY8N_XvtGbearJ5X4QryQ\",\"user_id\":\"OwjRMXRC0KyPrIlcjaXeFQ\",\"business_id\":\"-MhfebM0QIsKt87iDN-FNw\",\"stars\":2.0,\"useful\":5,\"funny\":0,\"cool\":0,\"text\":\"As someone who has worked with many museums, I was eager to visit this gallery on my most recent trip to Las Vegas. When I saw they would be showing infamous eggs of the House of Faberge from the Virginia Museum of Fine Arts (VMFA), I knew I had to go!\\\\n\\\\nTucked away near the gelateria and the garden, the Gallery is pretty much hidden from view. It\\'s what real estate agents would call \\\\\"cozy\\\\\" or \\\\\"charming\\\\\" - basically any euphemism for small.\\\\n\\\\nThat being said, you can still see wonderful art at a gallery of any size, so why the two *s you ask? Let me tell you:\\\\n\\\\n* pricing for this, while relatively inexpensive for a Las Vegas attraction, is completely over the top. For the space and the amount of art you can fit in there, it is a bit much.\\\\n* it\\'s not kid friendly at all. Seriously, don\\'t bring them.\\\\n* the security is not trained properly for the show. When the curating and design teams collaborate for exhibitions, there is a definite flow. That means visitors should view the art in a certain sequence, whether it be by historical period or cultural significance (this is how audio guides are usually developed). When I arrived in the gallery I could not tell where to start, and security was certainly not helpful. I was told to \\\\\"just look around\\\\\" and \\\\\"do whatever.\\\\\" \\\\n\\\\nAt such a *fine* institution, I find the lack of knowledge and respect for the art appalling.\",\"date\":\"2015-04-15 05:21:16\"}\\n']"
      ]
     },
     "execution_count": 52,
     "metadata": {},
     "output_type": "execute_result"
    }
   ],
   "source": []
  },
  {
   "cell_type": "code",
   "execution_count": 45,
   "metadata": {},
   "outputs": [
    {
     "ename": "TypeError",
     "evalue": "object of type '_io.TextIOWrapper' has no len()",
     "output_type": "error",
     "traceback": [
      "\u001b[0;31m---------------------------------------------------------------------------\u001b[0m",
      "\u001b[0;31mTypeError\u001b[0m                                 Traceback (most recent call last)",
      "\u001b[0;32m<ipython-input-45-3f7838c8eddc>\u001b[0m in \u001b[0;36m<module>\u001b[0;34m\u001b[0m\n\u001b[0;32m----> 1\u001b[0;31m \u001b[0mlen\u001b[0m\u001b[0;34m(\u001b[0m\u001b[0mreviews_file\u001b[0m\u001b[0;34m)\u001b[0m\u001b[0;34m\u001b[0m\u001b[0;34m\u001b[0m\u001b[0m\n\u001b[0m",
      "\u001b[0;31mTypeError\u001b[0m: object of type '_io.TextIOWrapper' has no len()"
     ]
    }
   ],
   "source": [
    "len(reviews_file)"
   ]
  },
  {
   "cell_type": "code",
   "execution_count": null,
   "metadata": {
    "scrolled": true
   },
   "outputs": [],
   "source": []
  },
  {
   "cell_type": "code",
   "execution_count": 38,
   "metadata": {},
   "outputs": [
    {
     "name": "stdout",
     "output_type": "stream",
     "text": [
      "i :  2 u :  3\n"
     ]
    }
   ],
   "source": [
    "i = 2\n",
    "u = 3\n",
    "print(\"i : \",i,\"u : \",u)"
   ]
  },
  {
   "source": [
    "# Βημα 2"
   ],
   "cell_type": "markdown",
   "metadata": {}
  },
  {
   "cell_type": "code",
   "execution_count": 39,
   "metadata": {},
   "outputs": [
    {
     "output_type": "stream",
     "name": "stdout",
     "text": [
      "        TZQSUDDcA4ek5gBd6BzcjA  qUWqjjjfpB2-4P3He5rsKw  4.0\n0       TZQSUDDcA4ek5gBd6BzcjA  6n_MDeYxU1ihB38be9TkVA  4.0\n1       TZQSUDDcA4ek5gBd6BzcjA  jo4KmAqlZ7vxjHIP7IIkAw  5.0\n2       TZQSUDDcA4ek5gBd6BzcjA  dsAcgF6qtZy2m6d_yWCrGQ  4.0\n3       TZQSUDDcA4ek5gBd6BzcjA  siaRCT2-PkyeXUVKrywcTg  4.0\n4       TZQSUDDcA4ek5gBd6BzcjA  SGP1jf6k7spXkgwBlhiUVw  5.0\n...                        ...                     ...  ...\n197106  3L3CI2Om_2SE3T6hxrJKPQ  j_hB9Gt3VMJAbA2JyvyFjw  4.0\n197107  3L3CI2Om_2SE3T6hxrJKPQ  WKcVegcUjAld1S737a_QHw  4.0\n197108  3L3CI2Om_2SE3T6hxrJKPQ  1FL3oE2mqq_EFAYPd1TWUg  5.0\n197109  3L3CI2Om_2SE3T6hxrJKPQ  hlrZHM4D48XiQtXh6cRg_w  1.0\n197110  3L3CI2Om_2SE3T6hxrJKPQ  _cVCzKQGt23KKW1M07Yvkw  5.0\n\n[197111 rows x 3 columns]\n"
     ]
    }
   ],
   "source": [
    "import pandas as pd \n",
    "import math\n",
    "table_R = pd.read_csv(\"pruned_data.csv\")\n",
    "print(table_R)"
   ]
  },
  {
   "cell_type": "code",
   "execution_count": 40,
   "metadata": {},
   "outputs": [
    {
     "output_type": "stream",
     "name": "stdout",
     "text": [
      "Sample data should have 9856 rows \n\n9856\n"
     ]
    }
   ],
   "source": [
    "print(\"Sample data should have {} rows \\n\".format(math.ceil(len(table_R)*0.05)))\n",
    "sample_data = table_R.sample(frac=0.05)\n",
    "print(len(sample_data))"
   ]
  },
  {
   "cell_type": "code",
   "execution_count": 41,
   "metadata": {},
   "outputs": [
    {
     "output_type": "stream",
     "name": "stdout",
     "text": [
      "After we remove the samples R should have 187255\n187255\n"
     ]
    }
   ],
   "source": [
    "print(\"After we remove the samples R should have {}\".format(orig_table_R_len - len(sample_data)))\n",
    "table_R = table_R.drop(sample_data.index)\n",
    "print(len(table_R))"
   ]
  },
  {
   "cell_type": "code",
   "execution_count": 18,
   "metadata": {},
   "outputs": [
    {
     "name": "stdout",
     "output_type": "stream",
     "text": [
      "7602\n"
     ]
    }
   ],
   "source": [
    "bs = []\n",
    "for x in range(len(data)):\n",
    "    if data[x]['review_count']>=15:\n",
    "        bs.append(data[x])\n",
    "print(len(bs))"
   ]
  },
  {
   "cell_type": "code",
   "execution_count": null,
   "metadata": {
    "scrolled": false
   },
   "outputs": [],
   "source": []
  },
  {
   "cell_type": "code",
   "execution_count": null,
   "metadata": {},
   "outputs": [],
   "source": []
  }
 ],
 "metadata": {
  "kernelspec": {
   "display_name": "Python 3",
   "language": "python",
   "name": "python3"
  },
  "language_info": {
   "codemirror_mode": {
    "name": "ipython",
    "version": 3
   },
   "file_extension": ".py",
   "mimetype": "text/x-python",
   "name": "python",
   "nbconvert_exporter": "python",
   "pygments_lexer": "ipython3",
   "version": "3.8.3-final"
  }
 },
 "nbformat": 4,
 "nbformat_minor": 4
}