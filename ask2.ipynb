{
 "cells": [
  {
   "cell_type": "code",
   "execution_count": 1,
   "metadata": {},
   "outputs": [],
   "source": [
    "import pandas as pd\n",
    "import numpy as np\n",
    "import json\n",
    "\n",
    "data = [json.loads(line) for line in \n",
    "        open('/home/left/Desktop/dataMining/set2/ask2/yelp_academic_dataset_business.json', 'r')]"
   ]
  },
  {
   "cell_type": "code",
   "execution_count": 2,
   "metadata": {
    "scrolled": true
   },
   "outputs": [],
   "source": [
    "data = [x for x in data if x['city']=='Toronto']\n",
    "data = np.array(data) # Convert list to numpy array\n",
    "\n",
    "# Create an array with business with more than 15 reviews\n",
    "business_col = np.array([])\n",
    "for i in range(len(data)):\n",
    "    if data[i]['review_count']>=15:\n",
    "        business_col = np.append(business_col,data[i]['business_id'])"
   ]
  },
  {
   "cell_type": "code",
   "execution_count": 3,
   "metadata": {},
   "outputs": [],
   "source": [
    "def get_business_index(business_id):\n",
    "    return np.where( business_col == business_id)"
   ]
  },
  {
   "cell_type": "code",
   "execution_count": 4,
   "metadata": {},
   "outputs": [],
   "source": [
    "user_business = []\n",
    "\n",
    "with open('/home/left/Desktop/dataMining/set2/ask2/yelp_academic_dataset_review.json') as reviews_file:\n",
    "\n",
    "    for line in reviews_file:\n",
    "        line = json.loads(line)\n",
    "        ind = get_business_index(line['business_id'])\n",
    "\n",
    "        if ind[0].size>0:\n",
    "            user_business.append([line['user_id'],line['business_id'], line['stars']])\n"
   ]
  },
  {
   "cell_type": "code",
   "execution_count": 32,
   "metadata": {},
   "outputs": [],
   "source": [
    "user_business_array = np.array(user_business)\n",
    "users = user_business_array[:,0]\n",
    "\n",
    "unique_users, counts = np.unique(users, return_counts=True)\n",
    "uniq_users = []\n",
    "\n",
    "for i in range(len(unique_users)):\n",
    "    if counts[i]>=15:\n",
    "        uniq_users.append(unique_users[i])\n",
    "\n",
    "businesses = user_business_array[:,1]\n",
    "unique_businesses = np.unique(businesses)\n",
    "\n",
    "unique_rows = np.unique(user_business_array, axis=0)\n",
    "uniq_users = np.array(uniq_users)\n",
    "\n",
    "\n",
    "# Create the sparse_array\n",
    "sparse = np.zeros((len(unique_businesses), len(uniq_users)))\n",
    "for i in range(len(unique_businesses)):\n",
    "    user_index = np.where(unique_businesses[i] == unique_rows)[0]\n",
    "\n",
    "    for j in range(len(user_index)):\n",
    "        unique_user_ind = np.where(unique_rows[user_index[j]][0] == uniq_users) \n",
    "        if unique_user_ind[0].size>0:\n",
    "            sparse[i][unique_user_ind[0][0]] = int(float(unique_rows[user_index[j]][2]))"
   ]
  },
  {
   "cell_type": "code",
   "execution_count": 33,
   "metadata": {},
   "outputs": [],
   "source": [
    "stop=0\n",
    "while(stop==0):\n",
    "    # prune the rows(businesses with below 15 reviews)\n",
    "    index_to_delete = []\n",
    "    for i in range(sparse.shape[0]):\n",
    "        nonzero_indexes = np.nonzero(sparse[i])\n",
    "        if len(nonzero_indexes[0])<15:\n",
    "            index_to_delete.append(i)\n",
    "            \n",
    "    #make new sparse array with deleted items and unique_businesses to track ids\n",
    "    unique_businesses = np.delete(unique_businesses, index_to_delete)\n",
    "    sparse = np.delete(sparse, index_to_delete, axis=0)\n",
    "    \n",
    "    #prune the columns(users)\n",
    "    transposed_sparse = np.transpose(sparse)\n",
    "    columns_to_delete = []\n",
    "    for i in range(transposed_sparse.shape[0]):\n",
    "        nonzero_values = np.nonzero(transposed_sparse[i])\n",
    "        if len(nonzero_values[0])<15:\n",
    "            columns_to_delete.append(i)\n",
    "            \n",
    "    #make new sparse array with deleted items and uniq_users to track ids\n",
    "    uniq_users = np.delete(uniq_users, columns_to_delete)\n",
    "    sparse = np.delete(sparse, columns_to_delete, axis=1)\n",
    "\n",
    "    # If nothing to delete -> stop\n",
    "    if len(index_to_delete)==0 and len(columns_to_delete)==0:\n",
    "        stop=1"
   ]
  },
  {
   "cell_type": "code",
   "execution_count": 46,
   "metadata": {},
   "outputs": [],
   "source": [
    "# Create the new data\n",
    "data_csv = []\n",
    "for i in range(sparse.shape[1]):\n",
    "    for j in range(sparse.shape[0]):\n",
    "        if sparse[j][i]>0:\n",
    "            data_csv.append([uniq_users[i],unique_businesses[j], sparse[j][i]])\n",
    "data_csv = np.array(data_csv)"
   ]
  },
  {
   "cell_type": "code",
   "execution_count": 47,
   "metadata": {},
   "outputs": [],
   "source": [
    "# Load the correct file\n",
    "table_R = pd.read_csv(\"pruned_data.csv\", header = None)\n",
    "table_R = table_R.to_numpy()"
   ]
  },
  {
   "cell_type": "code",
   "execution_count": 48,
   "metadata": {},
   "outputs": [],
   "source": [
    "from operator import itemgetter\n",
    "data_csv = sorted(data_csv, key=itemgetter(0,1), reverse=True)\n",
    "table_R = sorted(table_R, key=itemgetter(0,1), reverse=True)"
   ]
  },
  {
   "cell_type": "markdown",
   "metadata": {},
   "source": [
    "# Βημα 2"
   ]
  },
  {
   "cell_type": "code",
   "execution_count": 1,
   "metadata": {
    "scrolled": true
   },
   "outputs": [
    {
     "name": "stdout",
     "output_type": "stream",
     "text": [
      "                       user_id             business_id  rating\n",
      "0       TZQSUDDcA4ek5gBd6BzcjA  qUWqjjjfpB2-4P3He5rsKw     4.0\n",
      "1       TZQSUDDcA4ek5gBd6BzcjA  6n_MDeYxU1ihB38be9TkVA     4.0\n",
      "2       TZQSUDDcA4ek5gBd6BzcjA  jo4KmAqlZ7vxjHIP7IIkAw     5.0\n",
      "3       TZQSUDDcA4ek5gBd6BzcjA  dsAcgF6qtZy2m6d_yWCrGQ     4.0\n",
      "4       TZQSUDDcA4ek5gBd6BzcjA  siaRCT2-PkyeXUVKrywcTg     4.0\n",
      "...                        ...                     ...     ...\n",
      "197107  3L3CI2Om_2SE3T6hxrJKPQ  j_hB9Gt3VMJAbA2JyvyFjw     4.0\n",
      "197108  3L3CI2Om_2SE3T6hxrJKPQ  WKcVegcUjAld1S737a_QHw     4.0\n",
      "197109  3L3CI2Om_2SE3T6hxrJKPQ  1FL3oE2mqq_EFAYPd1TWUg     5.0\n",
      "197110  3L3CI2Om_2SE3T6hxrJKPQ  hlrZHM4D48XiQtXh6cRg_w     1.0\n",
      "197111  3L3CI2Om_2SE3T6hxrJKPQ  _cVCzKQGt23KKW1M07Yvkw     5.0\n",
      "\n",
      "[197112 rows x 3 columns]\n"
     ]
    }
   ],
   "source": [
    "import pandas as pd \n",
    "import math\n",
    "import numpy as np\n",
    "import json\n",
    "\n",
    "table_R = pd.read_csv(\"pruned_data.csv\", header = None)\n",
    "new_header = ['user_id', 'business_id', 'rating']\n",
    "table_R.columns = new_header[:]\n",
    "print(table_R)"
   ]
  },
  {
   "cell_type": "code",
   "execution_count": 2,
   "metadata": {},
   "outputs": [
    {
     "name": "stdout",
     "output_type": "stream",
     "text": [
      "Sample data should have 9856 rows \n",
      "\n",
      "9856\n"
     ]
    }
   ],
   "source": [
    "print(\"Sample data should have {} rows \\n\".format(math.ceil(len(table_R)*0.05)))\n",
    "sample_data = table_R.sample(frac=0.05)\n",
    "print(len(sample_data))"
   ]
  },
  {
   "cell_type": "code",
   "execution_count": 3,
   "metadata": {},
   "outputs": [],
   "source": [
    "# Setting sample ratings to zero\n",
    "for index in sample_data.index:\n",
    "    table_R.at[index, 'rating'] = 0"
   ]
  },
  {
   "cell_type": "code",
   "execution_count": 4,
   "metadata": {},
   "outputs": [],
   "source": [
    "tableR = table_R.to_numpy()\n",
    "unique_users = np.unique(tableR[:,0])\n",
    "unique_business = np.unique(tableR[:,1])"
   ]
  },
  {
   "cell_type": "code",
   "execution_count": 5,
   "metadata": {},
   "outputs": [],
   "source": [
    "sparse_array = np.zeros((len(unique_users), len(unique_business)))\n",
    "# Create the sparse_array\n",
    "for i in range(len(unique_users)):\n",
    "    business_index = np.where( unique_users[i] == table_R['user_id'])\n",
    "    \n",
    "    for j in range(len(business_index[0])):\n",
    "        temp_business = table_R['business_id'][business_index[0][j]] #take business_id for given index\n",
    "        unique_business_ind = np.where(temp_business == unique_business)\n",
    "        sparse_array[i][unique_business_ind[0][0]] = table_R['rating'][business_index[0][j]]"
   ]
  },
  {
   "cell_type": "markdown",
   "metadata": {},
   "source": [
    "# Βημα 3"
   ]
  },
  {
   "cell_type": "markdown",
   "metadata": {},
   "source": [
    "### Get user similarities table"
   ]
  },
  {
   "cell_type": "code",
   "execution_count": 6,
   "metadata": {},
   "outputs": [],
   "source": [
    "from scipy import sparse\n",
    "from sklearn.metrics.pairwise import cosine_similarity\n",
    "similarities = cosine_similarity(sparse_array)\n",
    "sample_array = sample_data.to_numpy()"
   ]
  },
  {
   "cell_type": "markdown",
   "metadata": {},
   "source": [
    "### This is helping functions to get user_id or business_id index in unique_users/business array"
   ]
  },
  {
   "cell_type": "code",
   "execution_count": 7,
   "metadata": {},
   "outputs": [],
   "source": [
    "def find_index(user_id):\n",
    "    ind = np.where(user_id  == unique_users)\n",
    "    return ind[0][0]\n",
    "def find_business(business_id):\n",
    "    ind = np.where(business_id == unique_business)\n",
    "    return ind[0][0]"
   ]
  },
  {
   "cell_type": "markdown",
   "metadata": {},
   "source": [
    "### UCF prediction function"
   ]
  },
  {
   "cell_type": "code",
   "execution_count": 8,
   "metadata": {},
   "outputs": [],
   "source": [
    "def UCF_prediction(user1, common_users, ratings, k_values):\n",
    "    #k_values = [1,5,10,20,50,100,200,500,1000]\n",
    "    user_ind1 = find_index(user1)\n",
    "    similar = []\n",
    "    predictions_k = []\n",
    "    # For every common user find his similarity to our user\n",
    "    for i in range(len(common_users)):\n",
    "        temp_ind = find_index(common_users[i])\n",
    "        similar.append([common_users[i], float(similarities[user_ind1][temp_ind]), int(ratings[i])])\n",
    "    \n",
    "    # Sort similarities and take k most similar to our user\n",
    "    from operator import itemgetter\n",
    "    vectors = np.array(sorted(similar, key=itemgetter(1), reverse=True))\n",
    "    \n",
    "    # For every given k calculate the predictions for the given user\n",
    "    for k in range(len(k_values)):\n",
    "        temp_vectors = vectors[:k_values[k]]\n",
    "        \n",
    "        similarity_vector = temp_vectors[:,1].astype(float)\n",
    "        ratings_vector = temp_vectors[:,2].astype(int)\n",
    "\n",
    "        # Calculate prediction\n",
    "        numerator = 0\n",
    "        denominator = np.sum(similarity_vector)\n",
    "        for i in range(len(similarity_vector)):\n",
    "            numerator += similarity_vector[i]*ratings_vector[i]\n",
    "        predictions_k.append(numerator/denominator)\n",
    "        \n",
    "    # Return a list with predictions for the user for every k value\n",
    "    return predictions_k"
   ]
  },
  {
   "cell_type": "markdown",
   "metadata": {},
   "source": [
    "### Prepare the data and execute UCF_prediction for every given k"
   ]
  },
  {
   "cell_type": "code",
   "execution_count": 9,
   "metadata": {},
   "outputs": [],
   "source": [
    "predictions = []\n",
    "business_avg_pred = []\n",
    "k_values = [1,5,10,20,50,100,200,500,1000]\n",
    "#k_values = []\n",
    "for i in range(sample_array.shape[0]): # For every pair (u,b) that have missing rating\n",
    "    common_users = []\n",
    "    common_ratings = []\n",
    "    business_index = find_business(sample_array[i][1]) # Get business index\n",
    "    common_users_indexes = np.nonzero(sparse_array[:,business_index]) # FIND INDEXES FOR NONZERO VALUES ONLY!\n",
    "    for j in range(len(common_users_indexes[0])): # For every row in spars- (Actually for every user)\n",
    "        common_ratings.append(sparse_array[common_users_indexes[0][j]][business_index]) # Append ratings\n",
    "        common_users.append(unique_users[common_users_indexes[0][j]]) # Append the user_id\n",
    "    \n",
    "    # Append the prediction\n",
    "    predictions.append(UCF_prediction(sample_array[i][0], common_users, common_ratings, k_values))\n",
    "    business_avg_pred.append(sum(common_ratings)/len(common_ratings))\n",
    "    \n",
    "ucf_predictions = np.array(predictions)"
   ]
  },
  {
   "cell_type": "markdown",
   "metadata": {},
   "source": [
    "# Βημα 4"
   ]
  },
  {
   "cell_type": "code",
   "execution_count": 10,
   "metadata": {},
   "outputs": [],
   "source": [
    "# Get transposed sparse array and similiarities between businesses\n",
    "transposed_sparse = np.transpose(sparse_array)\n",
    "business_similarities = cosine_similarity(transposed_sparse)"
   ]
  },
  {
   "cell_type": "code",
   "execution_count": 11,
   "metadata": {},
   "outputs": [],
   "source": [
    "def ICF_prediction(business1, common_businesses, ratings, k_values):\n",
    "    #k_values = [1,5,10,20,40,50,60,70,80,100]\n",
    "    business_ind1 = find_business(business1)\n",
    "    similar = []\n",
    "    predictions_k = []\n",
    "    \n",
    "    # For every common business find its' similarity to our business\n",
    "    for i in range(len(common_businesses)):\n",
    "        temp_ind = find_business(common_businesses[i])\n",
    "        similar.append([common_businesses[i], float(business_similarities[business_ind1][temp_ind]), int(ratings[i])])\n",
    "    \n",
    "    # Sort similarities and take k most similar to our business\n",
    "    from operator import itemgetter\n",
    "    vectors = np.array(sorted(similar, key=itemgetter(1), reverse=True))\n",
    "    \n",
    "    # For every given k calculate the predictions for the given user\n",
    "    for k in range(len(k_values)):\n",
    "        temp_vectors = vectors[:k_values[k]]\n",
    "        \n",
    "        similarity_vector = temp_vectors[:,1].astype(float)\n",
    "        ratings_vector = temp_vectors[:,2].astype(int)\n",
    "\n",
    "        # Calculate prediction\n",
    "        numerator = 0\n",
    "        denominator = np.sum(similarity_vector)\n",
    "        for i in range(len(similarity_vector)):\n",
    "            numerator += similarity_vector[i]*ratings_vector[i]\n",
    "        predictions_k.append(numerator/denominator)\n",
    "        \n",
    "    # Return a list with predictions for the user for every k value\n",
    "    return predictions_k"
   ]
  },
  {
   "cell_type": "markdown",
   "metadata": {},
   "source": [
    "### Prepare the data and execute ICF_prediction for every given k"
   ]
  },
  {
   "cell_type": "code",
   "execution_count": 12,
   "metadata": {},
   "outputs": [],
   "source": [
    "predictions = []\n",
    "user_avg_pred = []\n",
    "k_values = [1,5,10,20,40,50,60,70,80,100]\n",
    "#k_values\n",
    "for i in range(sample_array.shape[0]): # For every pair (u,b) that have missing rating\n",
    "    common_ratings = []\n",
    "    common_businesses = []\n",
    "    user_index = find_index(sample_array[i][0]) # Get user index\n",
    "    common_business_indexes = np.nonzero(sparse_array[user_index,:]) # FIND BUSINESSES INDEXES FOR NONZERO VALUES ONLY!\n",
    "\n",
    "    for j in range(len(common_business_indexes[0])): # For every row in spars- (Actually for every rated business)\n",
    "        common_ratings.append(transposed_sparse[common_business_indexes[0][j]][user_index]) # Append ratings\n",
    "        common_businesses.append(unique_business[common_business_indexes[0][j]]) # Append the user_id\n",
    "    # Append the prediction\n",
    "    predictions.append(ICF_prediction(sample_array[i][1], common_businesses, common_ratings, k_values))\n",
    "\n",
    "    user_avg_pred.append(sum(common_ratings)/len(common_ratings))\n",
    "    \n",
    "ifc_predictions = np.array(predictions)"
   ]
  },
  {
   "cell_type": "markdown",
   "metadata": {},
   "source": [
    "# Βήμα 5"
   ]
  },
  {
   "cell_type": "code",
   "execution_count": 47,
   "metadata": {},
   "outputs": [],
   "source": [
    "from numpy.linalg import svd \n",
    "\n",
    "u, s, vt = svd(sparse_array, full_matrices=False)\n",
    "s = np.diag(s)\n",
    "\n",
    "# keep the r largest singular vectors\n",
    "r = 5\n",
    "Rk_aprrox = u[:,:r] @ s[0:r, :r] @ vt[:r,:]"
   ]
  },
  {
   "cell_type": "code",
   "execution_count": 48,
   "metadata": {},
   "outputs": [
    {
     "data": {
      "image/png": "[encoded data removed]",
      "text/plain": [
       "<Figure size 432x288 with 1 Axes>"
      ]
     },
     "metadata": {
      "needs_background": "light"
     },
     "output_type": "display_data"
    },
    {
     "data": {
      "image/png": "[encoded data removed]",
      "text/plain": [
       "<Figure size 432x288 with 1 Axes>"
      ]
     },
     "metadata": {
      "needs_background": "light"
     },
     "output_type": "display_data"
    },
    {
     "name": "stdout",
     "output_type": "stream",
     "text": [
      "[[-0.00508805  0.00798275  0.03180521 ...  0.0211608   0.00602125\n",
      "   0.05553681]\n",
      " [ 0.08397981  0.06109197  0.13084715 ...  0.33360421  0.14668214\n",
      "   0.57123439]\n",
      " [ 0.00837869 -0.00123132  0.01286822 ...  0.00588874 -0.01460127\n",
      "   0.03405225]\n",
      " ...\n",
      " [ 0.00627475  0.01098065  0.01381533 ...  0.03066783  0.02213099\n",
      "   0.04531393]\n",
      " [ 0.02620984  0.0072356  -0.00413059 ...  0.01249215  0.00259576\n",
      "  -0.00433172]\n",
      " [ 0.03099672  0.00733428 -0.0062688  ...  0.00329296 -0.00552166\n",
      "  -0.03771329]]\n"
     ]
    }
   ],
   "source": [
    "import matplotlib.pyplot as plt\n",
    "\n",
    "plt.figure(1)\n",
    "plt.semilogy(np.diag(s))\n",
    "plt.title('Singular Values')\n",
    "plt.show()\n",
    "\n",
    "plt.figure(2)\n",
    "plt.semilogy(np.cumsum(np.diag(s)/np.sum(np.diag(s))))\n",
    "plt.title('Singular Values Cumulative Sum')\n",
    "plt.show()\n",
    "\n",
    "print(Rk_aprrox)"
   ]
  },
  {
   "cell_type": "markdown",
   "metadata": {},
   "source": [
    "# Βήμα 6"
   ]
  },
  {
   "cell_type": "code",
   "execution_count": 13,
   "metadata": {},
   "outputs": [],
   "source": [
    "RMSE_UCF = []\n",
    "true_ratings = sample_data['rating'].to_numpy()\n",
    "\n",
    "for i in range(ucf_predictions[0].size):\n",
    "    predicted_ratings = np.array(ucf_predictions[:,i])\n",
    "    sum_of_difference = 0\n",
    "    for i in range(sample_data.shape[0]):\n",
    "        sum_of_difference += (predicted_ratings[i] - true_ratings[i])**2\n",
    "    RMSE_UCF.append(math.sqrt(sum_of_difference/sample_data.shape[0]))"
   ]
  },
  {
   "cell_type": "code",
   "execution_count": 14,
   "metadata": {},
   "outputs": [],
   "source": [
    "RMSE_ICF = []\n",
    "true_ratings = sample_data['rating'].to_numpy()\n",
    "\n",
    "for i in range(ifc_predictions[0].size):\n",
    "    predicted_ratings = np.array(ifc_predictions[:,i])\n",
    "    sum_of_difference = 0\n",
    "    for i in range(sample_data.shape[0]):\n",
    "        sum_of_difference += (predicted_ratings[i] - true_ratings[i])**2\n",
    "    RMSE_ICF.append(math.sqrt(sum_of_difference/sample_data.shape[0]))"
   ]
  },
  {
   "cell_type": "code",
   "execution_count": 18,
   "metadata": {},
   "outputs": [
    {
     "data": {
      "image/png": "[encoded data removed]",
      "text/plain": [
       "<Figure size 432x288 with 1 Axes>"
      ]
     },
     "metadata": {
      "needs_background": "light"
     },
     "output_type": "display_data"
    }
   ],
   "source": [
    "import matplotlib.pyplot as plt\n",
    "x = [1,5,10,20,50,100,200,500,1000]\n",
    "plt.plot(x, RMSE_UCF, \"r\", label = \"UCF\")\n",
    "plt.legend()\n",
    "plt.ylabel(\"RMSE\")\n",
    "plt.xlabel(\"Top-K recommendations\");"
   ]
  },
  {
   "cell_type": "code",
   "execution_count": 19,
   "metadata": {
    "scrolled": true
   },
   "outputs": [
    {
     "data": {
      "image/png": "[encoded data removed]",
      "text/plain": [
       "<Figure size 432x288 with 1 Axes>"
      ]
     },
     "metadata": {
      "needs_background": "light"
     },
     "output_type": "display_data"
    }
   ],
   "source": [
    "import matplotlib.pyplot as plt\n",
    "x = [1,5,10,20,40,50,60,70,80,100]\n",
    "plt.plot(x, RMSE_ICF, \"b\", label = \"ICF\")\n",
    "plt.legend()\n",
    "plt.ylabel(\"RMSE\")\n",
    "plt.xlabel(\"Top-K recommendations\");"
   ]
  },
  {
   "cell_type": "code",
   "execution_count": 16,
   "metadata": {
    "scrolled": false
   },
   "outputs": [
    {
     "data": {
      "text/plain": [
       "[1.333912381027982,\n",
       " 1.050865684464112,\n",
       " 1.011269079066268,\n",
       " 0.9974360090416403,\n",
       " 0.9922330640060986,\n",
       " 0.9918579594451219,\n",
       " 0.9919556605044251,\n",
       " 0.99192326150088,\n",
       " 0.9919278965310658]"
      ]
     },
     "execution_count": 16,
     "metadata": {},
     "output_type": "execute_result"
    }
   ],
   "source": [
    "RMSE_UCF"
   ]
  },
  {
   "cell_type": "code",
   "execution_count": 17,
   "metadata": {
    "scrolled": true
   },
   "outputs": [
    {
     "data": {
      "text/plain": [
       "[1.3510307512818096,\n",
       " 1.077426196547374,\n",
       " 1.0378534601893692,\n",
       " 1.0259383522125343,\n",
       " 1.0229370092919066,\n",
       " 1.0229010841152368,\n",
       " 1.0231597469323792,\n",
       " 1.0232852497897929,\n",
       " 1.0236284332562577,\n",
       " 1.0237711007883836]"
      ]
     },
     "execution_count": 17,
     "metadata": {},
     "output_type": "execute_result"
    }
   ],
   "source": [
    "RMSE_ICF"
   ]
  },
  {
   "cell_type": "code",
   "execution_count": null,
   "metadata": {},
   "outputs": [],
   "source": []
  }
 ],
 "metadata": {
  "kernelspec": {
   "display_name": "Python 3",
   "language": "python",
   "name": "python3"
  },
  "language_info": {
   "codemirror_mode": {
    "name": "ipython",
    "version": 3
   },
   "file_extension": ".py",
   "mimetype": "text/x-python",
   "name": "python",
   "nbconvert_exporter": "python",
   "pygments_lexer": "ipython3",
   "version": "3.8.3"
  }
 },
 "nbformat": 4,
 "nbformat_minor": 4
}
