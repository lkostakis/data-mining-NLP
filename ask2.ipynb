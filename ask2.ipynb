{
 "cells": [
  {
   "cell_type": "code",
   "execution_count": 1,
   "metadata": {},
   "outputs": [],
   "source": [
    "import pandas as pd\n",
    "import json\n",
    "\n",
    "data = [json.loads(line) for line in \n",
    "        open('/home/left/Desktop/dataMining/set2/ask2/yelp_academic_dataset_business.json', 'r')]"
   ]
  },
  {
   "cell_type": "code",
   "execution_count": 2,
   "metadata": {
    "scrolled": true
   },
   "outputs": [],
   "source": [
    "data = [x for x in data if x['city']=='Toronto']"
   ]
  },
  {
   "cell_type": "code",
   "execution_count": 3,
   "metadata": {},
   "outputs": [
    {
     "data": {
      "text/plain": [
       "{'business_id': 'EosRKXIGeSWFYWwpkbhNnA',\n",
       " 'name': 'Xtreme Couture',\n",
       " 'address': '700 Kipling Avenue Etobicoke',\n",
       " 'city': 'Toronto',\n",
       " 'state': 'ON',\n",
       " 'postal_code': 'M8Z 5G3',\n",
       " 'latitude': 43.6245394916,\n",
       " 'longitude': -79.5291079302,\n",
       " 'stars': 3.0,\n",
       " 'review_count': 16,\n",
       " 'is_open': 1,\n",
       " 'attributes': {'GoodForKids': 'True',\n",
       "  'ByAppointmentOnly': 'True',\n",
       "  'BusinessParking': \"{'garage': False, 'street': False, 'validated': False, 'lot': False, 'valet': False}\",\n",
       "  'BikeParking': 'False'},\n",
       " 'categories': 'Martial Arts, Gyms, Fitness & Instruction, Active Life',\n",
       " 'hours': {'Monday': '5:30-23:0',\n",
       "  'Tuesday': '5:30-23:0',\n",
       "  'Wednesday': '5:30-23:0',\n",
       "  'Thursday': '5:30-23:0',\n",
       "  'Friday': '5:30-23:0',\n",
       "  'Saturday': '8:0-19:0',\n",
       "  'Sunday': '8:0-17:0'}}"
      ]
     },
     "execution_count": 3,
     "metadata": {},
     "output_type": "execute_result"
    }
   ],
   "source": [
    "data[0]"
   ]
  },
  {
   "cell_type": "code",
   "execution_count": null,
   "metadata": {
    "scrolled": false
   },
   "outputs": [
    {
     "name": "stdout",
     "output_type": "stream",
     "text": [
      "x : mMl1zXOLGJeqZEYPJhspRw  u : EosRKXIGeSWFYWwpkbhNnA\n",
      "x : z-IynR8AjB65eC6xTZP_zg  u : EosRKXIGeSWFYWwpkbhNnA\n",
      "x : Lu3R-B7HZB9l5-4RXO-kTA  u : EosRKXIGeSWFYWwpkbhNnA\n",
      "x : XxxEv-sX_VlTyyx1iLSk0A  u : EosRKXIGeSWFYWwpkbhNnA\n",
      "x : RY9N17YrTHmajVFft87OQA  u : EosRKXIGeSWFYWwpkbhNnA\n",
      "x : u3UxIl4oBJSFA2WIk5PtPQ  u : EosRKXIGeSWFYWwpkbhNnA\n",
      "x : bjWPN1Rob_EJH0OBRERyAg  u : EosRKXIGeSWFYWwpkbhNnA\n",
      "x : I5-cHkTGgmFP1obdsxWAng  u : EosRKXIGeSWFYWwpkbhNnA\n",
      "x : R1PCyy2n0NLWr1NlTz4fmQ  u : EosRKXIGeSWFYWwpkbhNnA\n",
      "x : g3Er6IsrMRGjIrqVBodBPg  u : EosRKXIGeSWFYWwpkbhNnA\n",
      "x : z-zbQG6l9pwzkcbfsXAgpQ  u : EosRKXIGeSWFYWwpkbhNnA\n",
      "x : NMx12qi0SLxLThk_tVxl2A  u : EosRKXIGeSWFYWwpkbhNnA\n",
      "x : xZT0SXeNTI0z1Z1bQk95uw  u : EosRKXIGeSWFYWwpkbhNnA\n",
      "x : WeVkkF5L39888IPPlRhNpg  u : EosRKXIGeSWFYWwpkbhNnA\n",
      "x : KD2xSgMe4gMHfOV5mUHBzQ  u : EosRKXIGeSWFYWwpkbhNnA\n",
      "x : ctOMJkvF_AqNwY4ly3XfIQ  u : EosRKXIGeSWFYWwpkbhNnA\n",
      "x : WeVkkF5L39888IPPlRhNpg  u : EosRKXIGeSWFYWwpkbhNnA\n"
     ]
    }
   ],
   "source": [
    "\n",
    "with open('/home/left/Desktop/dataMining/set2/ask2/yelp_academic_dataset_review.json') as reviews_file:\n",
    "    #business_id = [next(reviews_file) for x in range(1000)]\n",
    "   #for y in range(100):\n",
    "        #review_line = next(reviews_file)\n",
    "        #business_id = json.loads(review_line)\n",
    "        \n",
    "    for x in range(len(data)):\n",
    "        for line in reviews_file:\n",
    "            #review_line = next(reviews_file)\n",
    "            business_id = json.loads(line)\n",
    "            \n",
    "            if data[x]['business_id'] == business_id['business_id']:\n",
    "\n",
    "                print(\"x :\",business_id['user_id'],\" u :\",business_id['business_id'])\n",
    "        break\n",
    "(business_id['business_id'])"
   ]
  },
  {
   "cell_type": "markdown",
   "metadata": {},
   "source": [
    "# Βημα 2"
   ]
  },
  {
   "cell_type": "code",
   "execution_count": 39,
   "metadata": {},
   "outputs": [
    {
     "name": "stdout",
     "output_type": "stream",
     "text": [
      "        TZQSUDDcA4ek5gBd6BzcjA  qUWqjjjfpB2-4P3He5rsKw  4.0\n",
      "0       TZQSUDDcA4ek5gBd6BzcjA  6n_MDeYxU1ihB38be9TkVA  4.0\n",
      "1       TZQSUDDcA4ek5gBd6BzcjA  jo4KmAqlZ7vxjHIP7IIkAw  5.0\n",
      "2       TZQSUDDcA4ek5gBd6BzcjA  dsAcgF6qtZy2m6d_yWCrGQ  4.0\n",
      "3       TZQSUDDcA4ek5gBd6BzcjA  siaRCT2-PkyeXUVKrywcTg  4.0\n",
      "4       TZQSUDDcA4ek5gBd6BzcjA  SGP1jf6k7spXkgwBlhiUVw  5.0\n",
      "...                        ...                     ...  ...\n",
      "197106  3L3CI2Om_2SE3T6hxrJKPQ  j_hB9Gt3VMJAbA2JyvyFjw  4.0\n",
      "197107  3L3CI2Om_2SE3T6hxrJKPQ  WKcVegcUjAld1S737a_QHw  4.0\n",
      "197108  3L3CI2Om_2SE3T6hxrJKPQ  1FL3oE2mqq_EFAYPd1TWUg  5.0\n",
      "197109  3L3CI2Om_2SE3T6hxrJKPQ  hlrZHM4D48XiQtXh6cRg_w  1.0\n",
      "197110  3L3CI2Om_2SE3T6hxrJKPQ  _cVCzKQGt23KKW1M07Yvkw  5.0\n",
      "\n",
      "[197111 rows x 3 columns]\n"
     ]
    }
   ],
   "source": [
    "import pandas as pd \n",
    "import math\n",
    "table_R = pd.read_csv(\"pruned_data.csv\")\n",
    "print(table_R)"
   ]
  },
  {
   "cell_type": "code",
   "execution_count": 40,
   "metadata": {},
   "outputs": [
    {
     "name": "stdout",
     "output_type": "stream",
     "text": [
      "Sample data should have 9856 rows \n",
      "\n",
      "9856\n"
     ]
    }
   ],
   "source": [
    "print(\"Sample data should have {} rows \\n\".format(math.ceil(len(table_R)*0.05)))\n",
    "sample_data = table_R.sample(frac=0.05)\n",
    "print(len(sample_data))"
   ]
  },
  {
   "cell_type": "code",
   "execution_count": 41,
   "metadata": {},
   "outputs": [
    {
     "name": "stdout",
     "output_type": "stream",
     "text": [
      "After we remove the samples R should have 187255\n",
      "187255\n"
     ]
    }
   ],
   "source": [
    "print(\"After we remove the samples R should have {}\".format(orig_table_R_len - len(sample_data)))\n",
    "table_R = table_R.drop(sample_data.index)\n",
    "print(len(table_R))"
   ]
  },
  {
   "cell_type": "code",
   "execution_count": 18,
   "metadata": {},
   "outputs": [
    {
     "name": "stdout",
     "output_type": "stream",
     "text": [
      "7602\n"
     ]
    }
   ],
   "source": [
    "bs = []\n",
    "for x in range(len(data)):\n",
    "    if data[x]['review_count']>=15:\n",
    "        bs.append(data[x])\n",
    "print(len(bs))"
   ]
  },
  {
   "cell_type": "code",
   "execution_count": null,
   "metadata": {
    "scrolled": false
   },
   "outputs": [],
   "source": []
  },
  {
   "cell_type": "code",
   "execution_count": null,
   "metadata": {},
   "outputs": [],
   "source": []
  }
 ],
 "metadata": {
  "kernelspec": {
   "display_name": "Python 3",
   "language": "python",
   "name": "python3"
  },
  "language_info": {
   "codemirror_mode": {
    "name": "ipython",
    "version": 3
   },
   "file_extension": ".py",
   "mimetype": "text/x-python",
   "name": "python",
   "nbconvert_exporter": "python",
   "pygments_lexer": "ipython3",
   "version": "3.8.3"
  }
 },
 "nbformat": 4,
 "nbformat_minor": 4
}
