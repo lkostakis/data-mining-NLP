{
 "cells": [
  {
   "cell_type": "markdown",
   "metadata": {},
   "source": [
    "# Ερώτηση 3 (Clustering)"
   ]
  },
  {
   "cell_type": "code",
   "execution_count": 13,
   "metadata": {},
   "outputs": [
    {
     "output_type": "stream",
     "name": "stdout",
     "text": [
      "Read file in 2.176222801208496 seconds\n"
     ]
    }
   ],
   "source": [
    "import pandas as pd\n",
    "import numpy as np\n",
    "import json\n",
    "import time \n",
    "\n",
    "yelp_dataset_path = '../yelp-dataset/'\n",
    "buisness_v_path = yelp_dataset_path + 'yelp_academic_dataset_business.json'\n",
    "leftK_path = '/home/left/Desktop/dataMining/set2/ask2/yelp_academic_dataset_business.json'\n",
    "\n",
    "dataset_business = []\n",
    "categories_order = [\"Beauty & Spas\", \"Shopping\", \"Bars\"]\n",
    "\n",
    "start = time.time()\n",
    "\n",
    "with open(buisness_v_path, 'r', encoding=\"utf8\") as buisness_file:\n",
    "    for line in buisness_file:\n",
    "        json_dict = json.loads(line)\n",
    "        if  json_dict['city'] == 'Toronto' and \\\n",
    "            json_dict['review_count'] > 10 and \\\n",
    "            json_dict['categories'] is not None and \\\n",
    "            any(word in json_dict['categories'] for word in categories_order):\n",
    "                temp_cat = [cat for cat in categories_order if cat in json_dict['categories']][0]\n",
    "                dataset_business.append([json_dict['business_id'], temp_cat])\n",
    "                \n",
    "\n",
    "stop = time.time()\n",
    "print(\"Read file in {} seconds\".format(stop-start))"
   ]
  },
  {
   "cell_type": "code",
   "execution_count": 2,
   "metadata": {},
   "outputs": [
    {
     "output_type": "execute_result",
     "data": {
      "text/plain": [
       "3265"
      ]
     },
     "metadata": {},
     "execution_count": 2
    }
   ],
   "source": [
    "np_business = np.array(dataset_business)\n",
    "\n",
    "len(np_business)"
   ]
  },
  {
   "cell_type": "code",
   "execution_count": 3,
   "metadata": {},
   "outputs": [],
   "source": [
    "def get_index(business_id):\n",
    "    index = np.where(np_business == business_id)[0]\n",
    "    return index"
   ]
  },
  {
   "cell_type": "code",
   "execution_count": 4,
   "metadata": {},
   "outputs": [
    {
     "output_type": "stream",
     "name": "stdout",
     "text": [
      "Read file in 4.731421732902527 mins\n"
     ]
    }
   ],
   "source": [
    "start = time.time()\n",
    "business_review_txt = [[] for i in range(int(len(np_business)))]\n",
    "review_v_path = yelp_dataset_path + 'yelp_academic_dataset_review.json'\n",
    "leftK_path = '/home/left/Desktop/dataMining/set2/ask2/yelp_academic_dataset_review.json'\n",
    "\n",
    "with open(review_v_path, 'r', encoding=\"utf8\") as reviews_file:\n",
    "    for line in reviews_file:\n",
    "        json_dict = json.loads(line)\n",
    "        index = get_index(json_dict['business_id'])\n",
    "\n",
    "        if index.size > 0:\n",
    "            if len(business_review_txt[index[0]]) == 0:\n",
    "                business_review_txt[index[0]] = json_dict['text']\n",
    "            else:\n",
    "                business_review_txt[index[0]] += json_dict['text']\n",
    "\n",
    "stop = time.time()\n",
    "\n",
    "print(\"Read file in {} mins\".format((stop-start)/60))"
   ]
  },
  {
   "source": [
    "## TF-IDF"
   ],
   "cell_type": "markdown",
   "metadata": {}
  },
  {
   "cell_type": "code",
   "execution_count": 5,
   "metadata": {
    "tags": []
   },
   "outputs": [],
   "source": [
    "from sklearn.feature_extraction.text import TfidfVectorizer\n",
    "text = business_review_txt[23]\n",
    "# just send in all your docs here\n",
    "vectorizer = TfidfVectorizer()\n",
    "fitted_vectorizer=vectorizer.fit([text])\n",
    "tfidf_vectorizer_vectors=fitted_vectorizer.transform([text])\n",
    "first_vector_tfidfvectorizer=tfidf_vectorizer_vectors[0] \n",
    "\n",
    "values = np.array(first_vector_tfidfvectorizer.todense())[0]\n",
    "labels = np.array(vectorizer.get_feature_names())\n",
    "dict_labels = {}\n",
    "for a, b in zip(labels, values):\n",
    "    dict_labels[a] = b\n",
    "\n",
    "#dict_labels"
   ]
  },
  {
   "cell_type": "code",
   "execution_count": null,
   "metadata": {},
   "outputs": [],
   "source": []
  }
 ],
 "metadata": {
  "kernelspec": {
   "display_name": "Python 3",
   "language": "python",
   "name": "python3"
  },
  "language_info": {
   "codemirror_mode": {
    "name": "ipython",
    "version": 3
   },
   "file_extension": ".py",
   "mimetype": "text/x-python",
   "name": "python",
   "nbconvert_exporter": "python",
   "pygments_lexer": "ipython3",
   "version": "3.8.3-final"
  }
 },
 "nbformat": 4,
 "nbformat_minor": 2
}