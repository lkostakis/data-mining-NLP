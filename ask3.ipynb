{
 "metadata": {
  "language_info": {
   "codemirror_mode": {
    "name": "ipython",
    "version": 3
   },
   "file_extension": ".py",
   "mimetype": "text/x-python",
   "name": "python",
   "nbconvert_exporter": "python",
   "pygments_lexer": "ipython3",
   "version": "3.8.3-final"
  },
  "orig_nbformat": 2,
  "kernelspec": {
   "name": "python3",
   "display_name": "Python 3",
   "language": "python"
  }
 },
 "nbformat": 4,
 "nbformat_minor": 2,
 "cells": [
  {
   "source": [
    "# Ερώτηση 3 (Clustering)"
   ],
   "cell_type": "markdown",
   "metadata": {}
  },
  {
   "cell_type": "code",
   "execution_count": 54,
   "metadata": {},
   "outputs": [
    {
     "output_type": "stream",
     "name": "stdout",
     "text": [
      "Read file in 15.109997510910034 seconds\n"
     ]
    }
   ],
   "source": [
    "import pandas as pd\n",
    "import numpy as np\n",
    "import json\n",
    "import time\n",
    "\n",
    "start = time.time()\n",
    "yelp_dataset_path = '../yelp-dataset/'\n",
    "dataset_business = pd.read_json(r'../yelp-dataset/yelp_academic_dataset_business.json', lines= True)\n",
    "stop = time.time()\n",
    "\n",
    "print(\"Read file in {} seconds\".format(stop-start))\t"
   ]
  },
  {
   "cell_type": "code",
   "execution_count": 55,
   "metadata": {},
   "outputs": [],
   "source": [
    "buisness_table = \\\n",
    "dataset_business[[\"business_id\", \"name\", \"city\", \"categories\"]].loc[\n",
    "                    (dataset_business[\"city\"] == \"Toronto\") & \n",
    "                    (dataset_business[\"review_count\"] > 10) &\n",
    "                    dataset_business[\"categories\"].str.contains('Beauty & Spas|Shopping|Bars')]"
   ]
  },
  {
   "cell_type": "code",
   "execution_count": 56,
   "metadata": {},
   "outputs": [
    {
     "output_type": "stream",
     "name": "stdout",
     "text": [
      "Read file in 28.989804899692537 mins\n"
     ]
    }
   ],
   "source": [
    "start = time.time()\n",
    "dataset_review = [json.loads(line) for line in \n",
    "    open(yelp_dataset_path+'yelp_academic_dataset_review.json', 'r', encoding=\"utf8\")]\n",
    "dataset_review = pd.DataFrame(dataset_review) \n",
    "stop = time.time()\n",
    "\n",
    "print(\"Read file in {} mins\".format((stop-start)/60))\t"
   ]
  },
  {
   "source": [
    "dataset_review: Mean json read time 2-5 mins"
   ],
   "cell_type": "markdown",
   "metadata": {}
  },
  {
   "cell_type": "code",
   "execution_count": 57,
   "metadata": {},
   "outputs": [
    {
     "output_type": "execute_result",
     "data": {
      "text/plain": [
       "                      review_id                 user_id  \\\n",
       "0        xQY8N_XvtGbearJ5X4QryQ  OwjRMXRC0KyPrIlcjaXeFQ   \n",
       "1        UmFMZ8PyXZTY2QcwzsfQYA  nIJD_7ZXHq-FX8byPMOkMQ   \n",
       "2        LG2ZaYiOgpr2DK_90pYjNw  V34qejxNsCbcgD8C0HVk-Q   \n",
       "3        i6g_oA9Yf9Y31qt0wibXpw  ofKDkJKXSKZXu5xJNGiiBQ   \n",
       "4        6TdNDKywdbjoTkizeMce8A  UgMW8bLE0QMJDCkQ1Ax5Mg   \n",
       "...                         ...                     ...   \n",
       "8021117  LAzw2u1ucY722ryLEXHdgg  6DMFD3BRp-MVzDQelRx5UQ   \n",
       "8021118  gMDU14Fa_DVIcPvsKtubJA  _g6P8H3-qfbz1FxbffS68g   \n",
       "8021119  EcY_p50zPIQ2R6rf6-5CjA  Scmyz7MK4TbXXYcaLZxIxQ   \n",
       "8021120  -z_MM0pAf9RtZbyPlphTlA  lBuAACBEThaQHQGMzAlKpg   \n",
       "8021121  nK0JGgr8aO4mcFPU4pDOEA  fiA6ztHPONUkmX6yKIXyHg   \n",
       "\n",
       "                    business_id  stars  useful  funny  cool  \\\n",
       "0        -MhfebM0QIsKt87iDN-FNw    2.0       5      0     0   \n",
       "1        lbrU8StCq3yDfr-QMnGrmQ    1.0       1      1     0   \n",
       "2        HQl28KMwrEKHqhFrrDqVNQ    5.0       1      0     0   \n",
       "3        5JxlZaqCnk1MnbgRirs40Q    1.0       0      0     0   \n",
       "4        IS4cv902ykd8wj1TR0N3-A    4.0       0      0     0   \n",
       "...                         ...    ...     ...    ...   ...   \n",
       "8021117  XW2kaXdahICaJ27A0dhGHg    1.0       1      0     1   \n",
       "8021118  IsoLzudHC50oJLiEWpwV-w    3.0       1      3     1   \n",
       "8021119  kDCyqlYcstqnoqnfBRS5Og    5.0      15      6    13   \n",
       "8021120  VKVDDHKtsdrnigeIf9S8RA    3.0       2      0     0   \n",
       "8021121  2SbyRgHWuWNlq18eHAx95Q    5.0       2      0     2   \n",
       "\n",
       "                                                      text  \\\n",
       "0        As someone who has worked with many museums, I...   \n",
       "1        I am actually horrified this place is still in...   \n",
       "2        I love Deagan's. I do. I really do. The atmosp...   \n",
       "3        Dismal, lukewarm, defrosted-tasting \"TexMex\" g...   \n",
       "4        Oh happy day, finally have a Canes near my cas...   \n",
       "...                                                    ...   \n",
       "8021117  Fricken unbelievable, I ordered 2 space heater...   \n",
       "8021118  Solid American food with a southern comfort fl...   \n",
       "8021119  I'm honestly not sure how I have never been to...   \n",
       "8021120  Food was decent but I will say the service too...   \n",
       "8021121  Oh yeah! Not only that the service was good, t...   \n",
       "\n",
       "                        date  \n",
       "0        2015-04-15 05:21:16  \n",
       "1        2013-12-07 03:16:52  \n",
       "2        2015-12-05 03:18:11  \n",
       "3        2011-05-27 05:30:52  \n",
       "4        2017-01-14 21:56:57  \n",
       "...                      ...  \n",
       "8021117  2019-12-11 01:07:06  \n",
       "8021118  2019-12-10 04:15:00  \n",
       "8021119  2019-06-06 15:01:53  \n",
       "8021120  2018-07-05 18:45:21  \n",
       "8021121  2019-12-07 00:29:55  \n",
       "\n",
       "[8021122 rows x 9 columns]"
      ],
      "text/html": "<div>\n<style scoped>\n    .dataframe tbody tr th:only-of-type {\n        vertical-align: middle;\n    }\n\n    .dataframe tbody tr th {\n        vertical-align: top;\n    }\n\n    .dataframe thead th {\n        text-align: right;\n    }\n</style>\n<table border=\"1\" class=\"dataframe\">\n  <thead>\n    <tr style=\"text-align: right;\">\n      <th></th>\n      <th>review_id</th>\n      <th>user_id</th>\n      <th>business_id</th>\n      <th>stars</th>\n      <th>useful</th>\n      <th>funny</th>\n      <th>cool</th>\n      <th>text</th>\n      <th>date</th>\n    </tr>\n  </thead>\n  <tbody>\n    <tr>\n      <th>0</th>\n      <td>xQY8N_XvtGbearJ5X4QryQ</td>\n      <td>OwjRMXRC0KyPrIlcjaXeFQ</td>\n      <td>-MhfebM0QIsKt87iDN-FNw</td>\n      <td>2.0</td>\n      <td>5</td>\n      <td>0</td>\n      <td>0</td>\n      <td>As someone who has worked with many museums, I...</td>\n      <td>2015-04-15 05:21:16</td>\n    </tr>\n    <tr>\n      <th>1</th>\n      <td>UmFMZ8PyXZTY2QcwzsfQYA</td>\n      <td>nIJD_7ZXHq-FX8byPMOkMQ</td>\n      <td>lbrU8StCq3yDfr-QMnGrmQ</td>\n      <td>1.0</td>\n      <td>1</td>\n      <td>1</td>\n      <td>0</td>\n      <td>I am actually horrified this place is still in...</td>\n      <td>2013-12-07 03:16:52</td>\n    </tr>\n    <tr>\n      <th>2</th>\n      <td>LG2ZaYiOgpr2DK_90pYjNw</td>\n      <td>V34qejxNsCbcgD8C0HVk-Q</td>\n      <td>HQl28KMwrEKHqhFrrDqVNQ</td>\n      <td>5.0</td>\n      <td>1</td>\n      <td>0</td>\n      <td>0</td>\n      <td>I love Deagan's. I do. I really do. The atmosp...</td>\n      <td>2015-12-05 03:18:11</td>\n    </tr>\n    <tr>\n      <th>3</th>\n      <td>i6g_oA9Yf9Y31qt0wibXpw</td>\n      <td>ofKDkJKXSKZXu5xJNGiiBQ</td>\n      <td>5JxlZaqCnk1MnbgRirs40Q</td>\n      <td>1.0</td>\n      <td>0</td>\n      <td>0</td>\n      <td>0</td>\n      <td>Dismal, lukewarm, defrosted-tasting \"TexMex\" g...</td>\n      <td>2011-05-27 05:30:52</td>\n    </tr>\n    <tr>\n      <th>4</th>\n      <td>6TdNDKywdbjoTkizeMce8A</td>\n      <td>UgMW8bLE0QMJDCkQ1Ax5Mg</td>\n      <td>IS4cv902ykd8wj1TR0N3-A</td>\n      <td>4.0</td>\n      <td>0</td>\n      <td>0</td>\n      <td>0</td>\n      <td>Oh happy day, finally have a Canes near my cas...</td>\n      <td>2017-01-14 21:56:57</td>\n    </tr>\n    <tr>\n      <th>...</th>\n      <td>...</td>\n      <td>...</td>\n      <td>...</td>\n      <td>...</td>\n      <td>...</td>\n      <td>...</td>\n      <td>...</td>\n      <td>...</td>\n      <td>...</td>\n    </tr>\n    <tr>\n      <th>8021117</th>\n      <td>LAzw2u1ucY722ryLEXHdgg</td>\n      <td>6DMFD3BRp-MVzDQelRx5UQ</td>\n      <td>XW2kaXdahICaJ27A0dhGHg</td>\n      <td>1.0</td>\n      <td>1</td>\n      <td>0</td>\n      <td>1</td>\n      <td>Fricken unbelievable, I ordered 2 space heater...</td>\n      <td>2019-12-11 01:07:06</td>\n    </tr>\n    <tr>\n      <th>8021118</th>\n      <td>gMDU14Fa_DVIcPvsKtubJA</td>\n      <td>_g6P8H3-qfbz1FxbffS68g</td>\n      <td>IsoLzudHC50oJLiEWpwV-w</td>\n      <td>3.0</td>\n      <td>1</td>\n      <td>3</td>\n      <td>1</td>\n      <td>Solid American food with a southern comfort fl...</td>\n      <td>2019-12-10 04:15:00</td>\n    </tr>\n    <tr>\n      <th>8021119</th>\n      <td>EcY_p50zPIQ2R6rf6-5CjA</td>\n      <td>Scmyz7MK4TbXXYcaLZxIxQ</td>\n      <td>kDCyqlYcstqnoqnfBRS5Og</td>\n      <td>5.0</td>\n      <td>15</td>\n      <td>6</td>\n      <td>13</td>\n      <td>I'm honestly not sure how I have never been to...</td>\n      <td>2019-06-06 15:01:53</td>\n    </tr>\n    <tr>\n      <th>8021120</th>\n      <td>-z_MM0pAf9RtZbyPlphTlA</td>\n      <td>lBuAACBEThaQHQGMzAlKpg</td>\n      <td>VKVDDHKtsdrnigeIf9S8RA</td>\n      <td>3.0</td>\n      <td>2</td>\n      <td>0</td>\n      <td>0</td>\n      <td>Food was decent but I will say the service too...</td>\n      <td>2018-07-05 18:45:21</td>\n    </tr>\n    <tr>\n      <th>8021121</th>\n      <td>nK0JGgr8aO4mcFPU4pDOEA</td>\n      <td>fiA6ztHPONUkmX6yKIXyHg</td>\n      <td>2SbyRgHWuWNlq18eHAx95Q</td>\n      <td>5.0</td>\n      <td>2</td>\n      <td>0</td>\n      <td>2</td>\n      <td>Oh yeah! Not only that the service was good, t...</td>\n      <td>2019-12-07 00:29:55</td>\n    </tr>\n  </tbody>\n</table>\n<p>8021122 rows × 9 columns</p>\n</div>"
     },
     "metadata": {},
     "execution_count": 57
    }
   ],
   "source": [
    "dataset_review"
   ]
  },
  {
   "cell_type": "code",
   "execution_count": 58,
   "metadata": {},
   "outputs": [
    {
     "output_type": "stream",
     "name": "stdout",
     "text": [
      "Assign buissnes to Beauty & Spas\n"
     ]
    }
   ],
   "source": [
    "# Testing on how to set a category based on [\"Beauty & Spas\", \"Shopping\", \"Bars\"] order\n",
    "\n",
    "order = [\"Beauty & Spas\", \"Shopping\", \"Bars\"]\n",
    "test_1 = [\"Beauty & Spas\", \"Shopping\", \"Bars\"]\n",
    "test_2 = [\"Nightlife\", \"Sports Bars\", \"Bars\", \"Restaurants\"]\n",
    "test_3 = [\"Bars\", \"Shopping\", \"Beauty & Spas\"]\n",
    "\n",
    "print(\"Assign buissnes to {}\".format([value for index, value in enumerate(order) if value in test_3][0]))"
   ]
  },
  {
   "cell_type": "code",
   "execution_count": 65,
   "metadata": {
    "tags": []
   },
   "outputs": [
    {
     "output_type": "stream",
     "name": "stdout",
     "text": [
      "Steakhouses, Restaurants, Nightlife, Seafood, Bars\nBars\n"
     ]
    },
    {
     "output_type": "execute_result",
     "data": {
      "text/plain": [
       "161"
      ]
     },
     "metadata": {},
     "execution_count": 65
    }
   ],
   "source": [
    "buisness_category = buisness_table['categories'].iloc[0]\n",
    "print(buisness_category)\n",
    "category = [value for index, value in enumerate(order) if value in buisness_category][0]\n",
    "print(category)\n",
    "\n",
    "for index in buisness_table.index:\n",
    "    buisness_category = buisness_table['categories'].iloc[index]\n",
    "    category = [value for index, value in enumerate(order) if value in buisness_category][0]\n",
    "    buisness_table['categories'].iloc[index] = category"
   ]
  },
  {
   "cell_type": "code",
   "execution_count": null,
   "metadata": {},
   "outputs": [],
   "source": []
  }
 ]
}