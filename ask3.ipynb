{
 "metadata": {
  "language_info": {
   "codemirror_mode": {
    "name": "ipython",
    "version": 3
   },
   "file_extension": ".py",
   "mimetype": "text/x-python",
   "name": "python",
   "nbconvert_exporter": "python",
   "pygments_lexer": "ipython3",
   "version": "3.8.3-final"
  },
  "orig_nbformat": 2,
  "kernelspec": {
   "name": "python3",
   "display_name": "Python 3",
   "language": "python"
  }
 },
 "nbformat": 4,
 "nbformat_minor": 2,
 "cells": [
  {
   "source": [
    "# Ερώτηση 3 (Clustering)"
   ],
   "cell_type": "markdown",
   "metadata": {}
  },
  {
   "cell_type": "code",
   "execution_count": 1,
   "metadata": {},
   "outputs": [
    {
     "output_type": "stream",
     "name": "stdout",
     "text": [
      "Read file in 9.48769760131836 seconds\n"
     ]
    }
   ],
   "source": [
    "import pandas as pd\n",
    "import numpy as np\n",
    "import json\n",
    "import time\n",
    "\n",
    "start = time.time()\n",
    "yelp_dataset_path = '../yelp-dataset/'\n",
    "dataset_business = pd.read_json(r'../yelp-dataset/yelp_academic_dataset_business.json', lines= True)\n",
    "stop = time.time()\n",
    "\n",
    "print(\"Read file in {} seconds\".format(stop-start))\t"
   ]
  },
  {
   "cell_type": "code",
   "execution_count": 2,
   "metadata": {},
   "outputs": [],
   "source": [
    "buisness_table = \\\n",
    "dataset_business[[\"business_id\", \"name\", \"city\", \"categories\"]].loc[\n",
    "                    (dataset_business[\"city\"] == \"Toronto\") & \n",
    "                    (dataset_business[\"review_count\"] > 10) &\n",
    "                    dataset_business[\"categories\"].str.contains('Beauty & Spas|Shopping|Bars')]"
   ]
  },
  {
   "cell_type": "code",
   "execution_count": 3,
   "metadata": {},
   "outputs": [
    {
     "output_type": "stream",
     "name": "stdout",
     "text": [
      "Read file in 9.932160357634226 mins\n"
     ]
    }
   ],
   "source": [
    "start = time.time()\n",
    "dataset_review = [json.loads(line) for line in \n",
    "    open(yelp_dataset_path+'yelp_academic_dataset_review.json', 'r', encoding=\"utf8\")]\n",
    "dataset_review = pd.DataFrame(dataset_review) \n",
    "stop = time.time()\n",
    "\n",
    "print(\"Read file in {} mins\".format((stop-start)/60))\t"
   ]
  },
  {
   "source": [
    "dataset_review: Mean json read time 2-5 mins"
   ],
   "cell_type": "markdown",
   "metadata": {}
  },
  {
   "cell_type": "code",
   "execution_count": 4,
   "metadata": {},
   "outputs": [
    {
     "output_type": "stream",
     "name": "stdout",
     "text": [
      "Assign buissnes to Beauty & Spas\n"
     ]
    }
   ],
   "source": [
    "# Testing on how to set a category based on [\"Beauty & Spas\", \"Shopping\", \"Bars\"] order\n",
    "\n",
    "order = [\"Beauty & Spas\", \"Shopping\", \"Bars\"]\n",
    "test_1 = [\"Beauty & Spas\", \"Shopping\", \"Bars\"]\n",
    "test_2 = [\"Nightlife\", \"Sports Bars\", \"Bars\", \"Restaurants\"]\n",
    "test_3 = [\"Bars\", \"Shopping\", \"Beauty & Spas\"]\n",
    "\n",
    "print(\"Assign buissnes to {}\".format([value for index, value in enumerate(order) if value in test_3][0]))"
   ]
  },
  {
   "cell_type": "code",
   "execution_count": 5,
   "metadata": {
    "tags": []
   },
   "outputs": [
    {
     "output_type": "stream",
     "name": "stdout",
     "text": [
      "Steakhouses, Restaurants, Nightlife, Seafood, Bars\nBars\n"
     ]
    }
   ],
   "source": [
    "buisness_category = buisness_table['categories'].iloc[0]\n",
    "print(buisness_category)\n",
    "category = [value for index, value in enumerate(order) if value in buisness_category][0]\n",
    "print(category)"
   ]
  },
  {
   "cell_type": "code",
   "execution_count": 6,
   "metadata": {
    "tags": []
   },
   "outputs": [],
   "source": [
    "for index, row in buisness_table.iterrows():\n",
    "    #print(index, row)\n",
    "    buisness_category = buisness_table.at[index, 'categories']\n",
    "    category = [value for index, value in enumerate(order) if value in buisness_category][0]\n",
    "    buisness_table.at[index, 'categories'] = category"
   ]
  },
  {
   "cell_type": "code",
   "execution_count": 7,
   "metadata": {},
   "outputs": [
    {
     "output_type": "execute_result",
     "data": {
      "text/plain": [
       "                   business_id                          name     city  \\\n",
       "161     cicPsia8Wj-DNRkmLbD_xg      The Keg Steakhouse + Bar  Toronto   \n",
       "191     xVXyrTWbG8U3szze-aA7eg         St. Louis Bar & Grill  Toronto   \n",
       "194     e-tRKAC-q40SqQfAOwYa-A  Aum Ayurvedic & Thai Massage  Toronto   \n",
       "247     TKKX9bllRBMzp0NYr441PQ      Mi'Hito Sushi Laboratory  Toronto   \n",
       "259     C9keC4mWuXdl2mYFHZXudQ           Uncle Otis Clothing  Toronto   \n",
       "...                        ...                           ...      ...   \n",
       "209089  Cesnh6fIsAUO8D4jfGhOIw                       Colibri  Toronto   \n",
       "209109  lkq6i2x3vUsR7ZNrIFqoIw              The Monks Kettle  Toronto   \n",
       "209113  wjqOdj0XJUDOOtU9LjRlWQ             Pegasus On Church  Toronto   \n",
       "209300  thzyiQZb16zD8wMliaEfRQ                 Sushi Supreme  Toronto   \n",
       "209351  0hudPyuCBlKg79OwKBw-eQ                The Black Bull  Toronto   \n",
       "\n",
       "           categories  \n",
       "161              Bars  \n",
       "191              Bars  \n",
       "194     Beauty & Spas  \n",
       "247              Bars  \n",
       "259          Shopping  \n",
       "...               ...  \n",
       "209089       Shopping  \n",
       "209109           Bars  \n",
       "209113           Bars  \n",
       "209300           Bars  \n",
       "209351           Bars  \n",
       "\n",
       "[3265 rows x 4 columns]"
      ],
      "text/html": "<div>\n<style scoped>\n    .dataframe tbody tr th:only-of-type {\n        vertical-align: middle;\n    }\n\n    .dataframe tbody tr th {\n        vertical-align: top;\n    }\n\n    .dataframe thead th {\n        text-align: right;\n    }\n</style>\n<table border=\"1\" class=\"dataframe\">\n  <thead>\n    <tr style=\"text-align: right;\">\n      <th></th>\n      <th>business_id</th>\n      <th>name</th>\n      <th>city</th>\n      <th>categories</th>\n    </tr>\n  </thead>\n  <tbody>\n    <tr>\n      <th>161</th>\n      <td>cicPsia8Wj-DNRkmLbD_xg</td>\n      <td>The Keg Steakhouse + Bar</td>\n      <td>Toronto</td>\n      <td>Bars</td>\n    </tr>\n    <tr>\n      <th>191</th>\n      <td>xVXyrTWbG8U3szze-aA7eg</td>\n      <td>St. Louis Bar &amp; Grill</td>\n      <td>Toronto</td>\n      <td>Bars</td>\n    </tr>\n    <tr>\n      <th>194</th>\n      <td>e-tRKAC-q40SqQfAOwYa-A</td>\n      <td>Aum Ayurvedic &amp; Thai Massage</td>\n      <td>Toronto</td>\n      <td>Beauty &amp; Spas</td>\n    </tr>\n    <tr>\n      <th>247</th>\n      <td>TKKX9bllRBMzp0NYr441PQ</td>\n      <td>Mi'Hito Sushi Laboratory</td>\n      <td>Toronto</td>\n      <td>Bars</td>\n    </tr>\n    <tr>\n      <th>259</th>\n      <td>C9keC4mWuXdl2mYFHZXudQ</td>\n      <td>Uncle Otis Clothing</td>\n      <td>Toronto</td>\n      <td>Shopping</td>\n    </tr>\n    <tr>\n      <th>...</th>\n      <td>...</td>\n      <td>...</td>\n      <td>...</td>\n      <td>...</td>\n    </tr>\n    <tr>\n      <th>209089</th>\n      <td>Cesnh6fIsAUO8D4jfGhOIw</td>\n      <td>Colibri</td>\n      <td>Toronto</td>\n      <td>Shopping</td>\n    </tr>\n    <tr>\n      <th>209109</th>\n      <td>lkq6i2x3vUsR7ZNrIFqoIw</td>\n      <td>The Monks Kettle</td>\n      <td>Toronto</td>\n      <td>Bars</td>\n    </tr>\n    <tr>\n      <th>209113</th>\n      <td>wjqOdj0XJUDOOtU9LjRlWQ</td>\n      <td>Pegasus On Church</td>\n      <td>Toronto</td>\n      <td>Bars</td>\n    </tr>\n    <tr>\n      <th>209300</th>\n      <td>thzyiQZb16zD8wMliaEfRQ</td>\n      <td>Sushi Supreme</td>\n      <td>Toronto</td>\n      <td>Bars</td>\n    </tr>\n    <tr>\n      <th>209351</th>\n      <td>0hudPyuCBlKg79OwKBw-eQ</td>\n      <td>The Black Bull</td>\n      <td>Toronto</td>\n      <td>Bars</td>\n    </tr>\n  </tbody>\n</table>\n<p>3265 rows × 4 columns</p>\n</div>"
     },
     "metadata": {},
     "execution_count": 7
    }
   ],
   "source": [
    "buisness_table"
   ]
  },
  {
   "cell_type": "code",
   "execution_count": 46,
   "metadata": {},
   "outputs": [],
   "source": [
    "numpy_buisnesses = buisness_table.to_numpy()\n",
    "unique_buisnesses = np.unique(numpy_buisnesses)\n",
    "\n",
    "numpy_reviews = dataset_review.to_numpy()"
   ]
  },
  {
   "source": [
    "## collecting text"
   ],
   "cell_type": "markdown",
   "metadata": {}
  },
  {
   "cell_type": "code",
   "execution_count": 41,
   "metadata": {},
   "outputs": [
    {
     "output_type": "execute_result",
     "data": {
      "text/plain": [
       "array([\"'ONO Poké Bar\", '-0CCHBui57tZ_1y_14X-5Q',\n",
       "       '-0DwB6Swi349EKfbBAOF7A', ..., 'zzH3E5DA8eMzFwv2k5izyw',\n",
       "       'zzUj3ej4vm_DtvRxNvWDEw', 'zzf3RkMI1Y2E1QaZqeU8yA'], dtype=object)"
      ]
     },
     "metadata": {},
     "execution_count": 41
    }
   ],
   "source": [
    "d = {}\n",
    "for buisness_id in unique_buisnesses[:3]:\n",
    "    buisness_texts = dataset_review[[\"business_id\", \"text\"]].loc[\n",
    "        (dataset_review['business_id'] == buisness_id)].to_numpy()\n",
    "    temp_str = \"\"\n",
    "    for index, text in enumerate(buisness_texts):\n",
    "        temp_str += text[1]\n",
    "    d[buisness_id] = temp_str\n",
    "\n",
    "unique_buisnesses"
   ]
  },
  {
   "cell_type": "code",
   "execution_count": 57,
   "metadata": {},
   "outputs": [
    {
     "output_type": "error",
     "ename": "NameError",
     "evalue": "name 'dense' is not defined",
     "traceback": [
      "\u001b[1;31m---------------------------------------------------------------------------\u001b[0m",
      "\u001b[1;31mNameError\u001b[0m                                 Traceback (most recent call last)",
      "\u001b[1;32m<ipython-input-57-9a47da333022>\u001b[0m in \u001b[0;36m<module>\u001b[1;34m\u001b[0m\n\u001b[0;32m      6\u001b[0m \u001b[0mvectros\u001b[0m \u001b[1;33m=\u001b[0m \u001b[0mvectorizer\u001b[0m\u001b[1;33m.\u001b[0m\u001b[0mfit_transform\u001b[0m\u001b[1;33m(\u001b[0m\u001b[1;33m[\u001b[0m\u001b[0mtext\u001b[0m\u001b[1;33m]\u001b[0m\u001b[1;33m)\u001b[0m\u001b[1;33m\u001b[0m\u001b[1;33m\u001b[0m\u001b[0m\n\u001b[0;32m      7\u001b[0m \u001b[0mfeature_names\u001b[0m \u001b[1;33m=\u001b[0m \u001b[0mvectorizer\u001b[0m\u001b[1;33m.\u001b[0m\u001b[0mget_feature_names\u001b[0m\u001b[1;33m(\u001b[0m\u001b[1;33m)\u001b[0m\u001b[1;33m\u001b[0m\u001b[1;33m\u001b[0m\u001b[0m\n\u001b[1;32m----> 8\u001b[1;33m \u001b[0mdenselist\u001b[0m \u001b[1;33m=\u001b[0m \u001b[0mdense\u001b[0m\u001b[1;33m.\u001b[0m\u001b[0mtolist\u001b[0m\u001b[1;33m(\u001b[0m\u001b[1;33m)\u001b[0m\u001b[1;33m\u001b[0m\u001b[1;33m\u001b[0m\u001b[0m\n\u001b[0m\u001b[0;32m      9\u001b[0m \u001b[0mdf\u001b[0m \u001b[1;33m=\u001b[0m \u001b[0mpd\u001b[0m\u001b[1;33m.\u001b[0m\u001b[0mDataFrame\u001b[0m\u001b[1;33m(\u001b[0m\u001b[0mdenselist\u001b[0m\u001b[1;33m,\u001b[0m \u001b[0mcolumns\u001b[0m\u001b[1;33m=\u001b[0m\u001b[0mfeature_names\u001b[0m\u001b[1;33m)\u001b[0m\u001b[1;33m\u001b[0m\u001b[1;33m\u001b[0m\u001b[0m\n",
      "\u001b[1;31mNameError\u001b[0m: name 'dense' is not defined"
     ]
    }
   ],
   "source": [
    "from sklearn.feature_extraction.text import TfidfVectorizer\n",
    "\n",
    "#print(d[unique_buisnesses[1]])\n",
    "text = d[unique_buisnesses[1]]\n",
    "vectorizer = TfidfVectorizer()\n",
    "vectros = vectorizer.fit_transform([text])\n",
    "feature_names = vectorizer.get_feature_names()\n",
    "dense = vectros.todence()\n",
    "denselist = dense.tolist()\n",
    "df = pd.DataFrame(denselist, columns=feature_names)"
   ]
  },
  {
   "cell_type": "code",
   "execution_count": null,
   "metadata": {},
   "outputs": [],
   "source": []
  }
 ]
}